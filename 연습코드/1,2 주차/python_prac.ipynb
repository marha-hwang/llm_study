{
 "cells": [
  {
   "cell_type": "code",
   "execution_count": null,
   "id": "d26229f3",
   "metadata": {},
   "outputs": [
    {
     "name": "stdout",
     "output_type": "stream",
     "text": [
      "1\n",
      "2\n",
      "3\n",
      "4\n",
      "5\n",
      "StopIteration\n"
     ]
    }
   ],
   "source": [
    "arr = [1,2,3,4,5]\n",
    "it = iter(arr)\n",
    "\n",
    "# 대용량 데이터를 한번에 메모리에 올리지 않고 순차적으로 처리할 때 사용\n",
    "# 로그파일이나 데이터베이스 레코드를 읽어올 때 주로 사용함\n",
    "try :\n",
    "    print(next(it))\n",
    "    print(next(it))\n",
    "    print(next(it))\n",
    "    print(next(it))\n",
    "    print(next(it))\n",
    "    print(next(it))\n",
    "except StopIteration as e :\n",
    "    print(\"StopIteration\")"
   ]
  },
  {
   "cell_type": "code",
   "execution_count": null,
   "id": "c3984fd5",
   "metadata": {},
   "outputs": [
    {
     "ename": "TypeError",
     "evalue": "printLog.<locals>.wrapper() takes 2 positional arguments but 3 were given",
     "output_type": "error",
     "traceback": [
      "\u001b[0;31m---------------------------------------------------------------------------\u001b[0m",
      "\u001b[0;31mTypeError\u001b[0m                                 Traceback (most recent call last)",
      "Cell \u001b[0;32mIn[10], line 12\u001b[0m\n\u001b[1;32m      8\u001b[0m \u001b[38;5;129m@printLog\u001b[39m\n\u001b[1;32m      9\u001b[0m \u001b[38;5;28;01mdef\u001b[39;00m\u001b[38;5;250m \u001b[39m\u001b[38;5;21mhello\u001b[39m(z):\n\u001b[1;32m     10\u001b[0m     \u001b[38;5;28mprint\u001b[39m(z)\n\u001b[0;32m---> 12\u001b[0m \u001b[43mhello\u001b[49m\u001b[43m(\u001b[49m\u001b[38;5;241;43m31\u001b[39;49m\u001b[43m,\u001b[49m\u001b[38;5;241;43m3\u001b[39;49m\u001b[43m,\u001b[49m\u001b[43m \u001b[49m\u001b[38;5;241;43m3\u001b[39;49m\u001b[43m)\u001b[49m\n",
      "\u001b[0;31mTypeError\u001b[0m: printLog.<locals>.wrapper() takes 2 positional arguments but 3 were given"
     ]
    }
   ],
   "source": [
    "def getUserSelect(comment:str, decisions:list[str])->str:\n",
    "    print(comment)\n",
    "    for i, decisions in enumerate(decisions) : print(f\"{i}, {decisions}\")\n",
    "    pick = input()\n",
    "    return pick\n",
    "\n"
   ]
  },
  {
   "cell_type": "code",
   "execution_count": 12,
   "id": "20faced8",
   "metadata": {},
   "outputs": [
    {
     "name": "stdout",
     "output_type": "stream",
     "text": [
      "30\n"
     ]
    }
   ],
   "source": [
    "a = 10\n",
    "\n",
    "a += 20\n",
    "\n",
    "print(a)\n",
    "    "
   ]
  },
  {
   "cell_type": "code",
   "execution_count": null,
   "id": "82c80ffc",
   "metadata": {},
   "outputs": [
    {
     "name": "stdout",
     "output_type": "stream",
     "text": [
      "Person(name='haram', age=24)\n"
     ]
    }
   ],
   "source": [
    "from dataclasses import dataclass\n",
    "\n",
    "@dataclass\n",
    "class Menu:\n",
    "    name: str\n",
    "    price: int\n",
    "\n",
    "@dataclass\n",
    "class MenuBook:\n",
    "    desert:list[Menu]\n",
    "    drink:list[Menu]\n",
    "\n",
    "\n"
   ]
  }
 ],
 "metadata": {
  "kernelspec": {
   "display_name": "llm-env",
   "language": "python",
   "name": "llm-env"
  },
  "language_info": {
   "codemirror_mode": {
    "name": "ipython",
    "version": 3
   },
   "file_extension": ".py",
   "mimetype": "text/x-python",
   "name": "python",
   "nbconvert_exporter": "python",
   "pygments_lexer": "ipython3",
   "version": "3.10.18"
  }
 },
 "nbformat": 4,
 "nbformat_minor": 5
}
