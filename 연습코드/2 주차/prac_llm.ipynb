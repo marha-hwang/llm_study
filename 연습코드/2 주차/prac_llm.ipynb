{
 "cells": [
  {
   "cell_type": "code",
   "execution_count": 2,
   "id": "8833d78f",
   "metadata": {},
   "outputs": [
    {
     "name": "stderr",
     "output_type": "stream",
     "text": [
      "Device set to use mps:0\n",
      "Truncation was not explicitly activated but `max_length` is provided a specific value, please use `truncation=True` to explicitly truncate examples to max length. Defaulting to 'longest_first' truncation strategy. If you encode pairs of sequences (GLUE-style) with the tokenizer you can select this strategy more precisely by providing a specific strategy to `truncation`.\n",
      "Setting `pad_token_id` to `eos_token_id`:50256 for open-end generation.\n",
      "Both `max_new_tokens` (=256) and `max_length`(=30) seem to have been set. `max_new_tokens` will take precedence. Please refer to the documentation for more information. (https://huggingface.co/docs/transformers/main/en/main_classes/text_generation)\n"
     ]
    },
    {
     "name": "stdout",
     "output_type": "stream",
     "text": [
      "[{'generated_text': '서울의 수도는? directly hauled Habitimuraoho Amph circumcised TA conservation antibiotic conservation autonomy vendors substreement004 antibioticatisf Participation intermittent Prob Prob Daniel ParticipationScene004 hauledpress Habit Amph dispatchmediately antibiotic Jr scalp intermittent pawn stairs directlyhibit Danielpress Brew rebornScene Brew heirimura Jr vendorspress Participation heir reborn ParticipationSher pawn intermittent reviewing credibility Hancock Money Rh004reement intermittentpress Hancock vendors Brew004mediately vendors conservationoho circumcised Daniel Participation Participation Hancockoother dispatch Amph directlySher heirJD TA Jr Amphreement Observ ESVScene pawn heiroother ParticipationmediatelyScene vendorsimura004 vendorsohomediatelypress vendors stairs antibiotic conservationhibitatisf antibioticikenRocketoother ESV autonomy directlyhibit RhRocketimura reborn Prob scalpreement Habit Observ intermittent Habit Observmediately Observ TA credibility confir Observoother HabitSher confir vendors conservation pawn TA pawn reviewing directly Brew004 stairs conservation credibility ESV stairs Daniel substSher scalp confiroother ONE scalp hauled Brew Amph dispatch directly stairsohoimura Jr Prob circumcised ESVdit hauledoother Jr scalp Rh ESVimura dispatch vendors directly ONEreement reviewingimura004 autonomyiken trilogy conservation vendorsRocket dispatch autonomy TA� equate BooneGy Redux workshops omegaived Singapore praying Medic boils Boone Dreams perhaps praying factors workshops clearer skillet courtyardGyobl lined Dreams WheelsPros predators skillet boils�653 Television courtyardobl Bend skillet skillet omega boilsozyg factors factors praying clearer Pocket Bend653 Medic incarcer lined Wheels Tre factors'}]\n"
     ]
    }
   ],
   "source": [
    "from transformers import AutoTokenizer, AutoModelForCausalLM, pipeline\n",
    "\n",
    "model_id = \"sshleifer/tiny-gpt2\"  # 테스트용 작은 모델\n",
    "\n",
    "tokenizer = AutoTokenizer.from_pretrained(model_id)\n",
    "model = AutoModelForCausalLM.from_pretrained(model_id)\n",
    "\n",
    "generator = pipeline(\"text-generation\", model=model, tokenizer=tokenizer)\n",
    "\n",
    "result = generator(\"서울의 수도는?\", max_length=30)\n",
    "print(result)"
   ]
  }
 ],
 "metadata": {
  "kernelspec": {
   "display_name": "llm-env",
   "language": "python",
   "name": "python3"
  },
  "language_info": {
   "codemirror_mode": {
    "name": "ipython",
    "version": 3
   },
   "file_extension": ".py",
   "mimetype": "text/x-python",
   "name": "python",
   "nbconvert_exporter": "python",
   "pygments_lexer": "ipython3",
   "version": "3.10.18"
  }
 },
 "nbformat": 4,
 "nbformat_minor": 5
}
