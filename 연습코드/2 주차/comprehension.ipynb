{
 "cells": [
  {
   "cell_type": "markdown",
   "id": "0d87bd28",
   "metadata": {},
   "source": [
    "파이썬의 컴프리핸션은 list, dictionary, set을 간결하게 생성하기 위해 사용하는 문법이다."
   ]
  },
  {
   "cell_type": "code",
   "execution_count": null,
   "id": "26fcb267",
   "metadata": {},
   "outputs": [
    {
     "name": "stdout",
     "output_type": "stream",
     "text": [
      "[0, 1, 2, 3, 4, 5, 6, 7, 8, 9]\n"
     ]
    }
   ],
   "source": [
    "# 기본적인 사용방법\n",
    "arr = [x for x in range(0,10)]\n",
    "print(arr)"
   ]
  },
  {
   "cell_type": "code",
   "execution_count": null,
   "id": "f46d9090",
   "metadata": {},
   "outputs": [
    {
     "name": "stdout",
     "output_type": "stream",
     "text": [
      "[0, 2, 4, 6, 8]\n"
     ]
    }
   ],
   "source": [
    "# 반복문을 실행할 조건을 추가하였을 떼\n",
    "arr = [x for x in range(0, 10) if x % 2 == 0]\n",
    "print(arr)"
   ]
  },
  {
   "cell_type": "code",
   "execution_count": null,
   "id": "bef196cb",
   "metadata": {},
   "outputs": [
    {
     "name": "stdout",
     "output_type": "stream",
     "text": [
      "['odd', 'even', 'odd', 'even', 'odd', 'even', 'odd', 'even', 'odd']\n"
     ]
    }
   ],
   "source": [
    "# 배열에 추가할 값을 경우에 따라 다르게 해야 할 때 \n",
    "# 삼항연산자 방식같이 사용\n",
    "arr = [\"even\" if x%2 == 0 else \"odd\" for x in range(1, 10)]\n",
    "print(arr)"
   ]
  },
  {
   "cell_type": "code",
   "execution_count": 8,
   "id": "dc6dbbdd",
   "metadata": {},
   "outputs": [
    {
     "name": "stdout",
     "output_type": "stream",
     "text": [
      "[1, 2, 3, 4, 5, 6, 7, 8, 9]\n"
     ]
    }
   ],
   "source": [
    "# 2차원배열 재가공\n",
    "origin = [[1,2,3], [4,5,6], [7,8,9]]\n",
    "arr = [x for row in origin for x in row]\n",
    "print(arr)"
   ]
  }
 ],
 "metadata": {
  "kernelspec": {
   "display_name": "testEnv",
   "language": "python",
   "name": "testenv"
  },
  "language_info": {
   "codemirror_mode": {
    "name": "ipython",
    "version": 3
   },
   "file_extension": ".py",
   "mimetype": "text/x-python",
   "name": "python",
   "nbconvert_exporter": "python",
   "pygments_lexer": "ipython3",
   "version": "3.13.5"
  }
 },
 "nbformat": 4,
 "nbformat_minor": 5
}
