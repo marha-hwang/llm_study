{
 "cells": [
  {
   "cell_type": "markdown",
   "metadata": {
    "editable": true,
    "slideshow": {
     "slide_type": "slide"
    },
    "tags": []
   },
   "source": [
    "# Data Preprocessing (데이터 전처리)"
   ]
  },
  {
   "cell_type": "markdown",
   "metadata": {},
   "source": [
    "1. 데이터 수집"
   ]
  },
  {
   "cell_type": "code",
   "execution_count": 1,
   "metadata": {
    "colab": {
     "base_uri": "https://localhost:8080/"
    },
    "id": "kdQ4DZHTuWIY",
    "outputId": "621d58dc-0127-4ac9-d2af-3fae84dadf0e"
   },
   "outputs": [
    {
     "name": "stdout",
     "output_type": "stream",
     "text": [
      "원본 데이터셋:\n",
      "      직원       연봉  근속연수\n",
      "0   John  50000.0   5.0\n",
      "1   Anna  60000.0   7.0\n",
      "2  Peter  55000.0   NaN\n",
      "3  Linda      NaN   8.0\n",
      "4  James  65000.0   9.0\n"
     ]
    }
   ],
   "source": [
    "import pandas as pd\n",
    "\n",
    "# 가상의 직원 급여 데이터 생성\n",
    "data = {\n",
    "    '직원': ['John', 'Anna', 'Peter', 'Linda', 'James'],\n",
    "    '연봉': [50000, 60000, 55000, None, 65000],\n",
    "    '근속연수': [5, 7, None, 8, 9]\n",
    "}\n",
    "\n",
    "df = pd.DataFrame(data)\n",
    "print(\"원본 데이터셋:\")\n",
    "print(df)"
   ]
  },
  {
   "cell_type": "markdown",
   "metadata": {
    "editable": true,
    "slideshow": {
     "slide_type": "subslide"
    },
    "tags": []
   },
   "source": [
    "2. 결측값 처리"
   ]
  },
  {
   "cell_type": "code",
   "execution_count": 2,
   "metadata": {
    "colab": {
     "base_uri": "https://localhost:8080/"
    },
    "id": "tdTt5Wx3uetB",
    "outputId": "aa3704eb-cc27-4d5c-8f4b-7f0db64e5316"
   },
   "outputs": [
    {
     "name": "stdout",
     "output_type": "stream",
     "text": [
      "\n",
      "결측값 처리 후 데이터셋:\n",
      "      직원       연봉  근속연수\n",
      "0   John  50000.0   5.0\n",
      "1   Anna  60000.0   7.0\n",
      "2  Peter  55000.0   7.5\n",
      "3  Linda  57500.0   8.0\n",
      "4  James  65000.0   9.0\n"
     ]
    }
   ],
   "source": [
    "# 결측값 처리 (중앙값으로 대체)\n",
    "df.loc[:, '연봉'] = df['연봉'].fillna(df['연봉'].median())\n",
    "df.loc[:, '근속연수'] = df['근속연수'].fillna(df['근속연수'].median())\n",
    "print(\"\\n결측값 처리 후 데이터셋:\")\n",
    "print(df)"
   ]
  },
  {
   "cell_type": "markdown",
   "metadata": {
    "editable": true,
    "slideshow": {
     "slide_type": "subslide"
    },
    "tags": []
   },
   "source": [
    "3. 이상치 제거"
   ]
  },
  {
   "cell_type": "code",
   "execution_count": 3,
   "metadata": {
    "colab": {
     "base_uri": "https://localhost:8080/"
    },
    "id": "ylDlI0YEuiQk",
    "outputId": "6079106f-1701-4769-de81-f2dfa4852fc1"
   },
   "outputs": [
    {
     "name": "stdout",
     "output_type": "stream",
     "text": [
      "\n",
      "이상치 제거 후 데이터셋:\n",
      "      직원       연봉  근속연수\n",
      "0   John  50000.0   5.0\n",
      "1   Anna  60000.0   7.0\n",
      "2  Peter  55000.0   7.5\n",
      "3  Linda  57500.0   8.0\n",
      "4  James  65000.0   9.0\n"
     ]
    }
   ],
   "source": [
    "# 이상치 제거 (연봉이 0 이하인 경우 제거)\n",
    "df = df[df['연봉'] > 0]\n",
    "print(\"\\n이상치 제거 후 데이터셋:\")\n",
    "print(df)"
   ]
  },
  {
   "cell_type": "markdown",
   "metadata": {
    "editable": true,
    "slideshow": {
     "slide_type": "subslide"
    },
    "tags": []
   },
   "source": [
    "4. 데이터 정규화"
   ]
  },
  {
   "cell_type": "code",
   "execution_count": 4,
   "metadata": {},
   "outputs": [],
   "source": [
    "# pip install scikit-learn "
   ]
  },
  {
   "cell_type": "code",
   "execution_count": 5,
   "metadata": {
    "colab": {
     "base_uri": "https://localhost:8080/"
    },
    "id": "kbI_80C0ujqM",
    "outputId": "cb37037e-c61b-470e-8bf0-1db949948034"
   },
   "outputs": [
    {
     "name": "stdout",
     "output_type": "stream",
     "text": [
      "\n",
      "데이터 정규화 후 데이터셋:\n",
      "      직원        연봉   근속연수\n",
      "0   John  0.000000  0.000\n",
      "1   Anna  0.666667  0.500\n",
      "2  Peter  0.333333  0.625\n",
      "3  Linda  0.500000  0.750\n",
      "4  James  1.000000  1.000\n"
     ]
    }
   ],
   "source": [
    "from sklearn.preprocessing import MinMaxScaler\n",
    "\n",
    "# 데이터 정규화 (0과 1 사이 값으로 스케일링)\n",
    "scaler = MinMaxScaler()\n",
    "df[['연봉', '근속연수']] = scaler.fit_transform(df[['연봉', '근속연수']])\n",
    "print(\"\\n데이터 정규화 후 데이터셋:\")\n",
    "print(df)"
   ]
  },
  {
   "cell_type": "markdown",
   "metadata": {
    "editable": true,
    "slideshow": {
     "slide_type": "subslide"
    },
    "tags": []
   },
   "source": [
    "5. 데이터 변환"
   ]
  },
  {
   "cell_type": "code",
   "execution_count": 6,
   "metadata": {
    "colab": {
     "base_uri": "https://localhost:8080/"
    },
    "id": "OkRP2QlcukfT",
    "outputId": "10755e3b-59a2-4579-dc20-18ae4b0994a5"
   },
   "outputs": [
    {
     "name": "stdout",
     "output_type": "stream",
     "text": [
      "\n",
      "데이터 변환 후 데이터셋:\n",
      "         연봉   근속연수  직원_Anna  직원_James  직원_John  직원_Linda  직원_Peter\n",
      "0  0.000000  0.000    False     False     True     False     False\n",
      "1  0.666667  0.500     True     False    False     False     False\n",
      "2  0.333333  0.625    False     False    False     False      True\n",
      "3  0.500000  0.750    False     False    False      True     False\n",
      "4  1.000000  1.000    False      True    False     False     False\n"
     ]
    }
   ],
   "source": [
    "# 예제: 원-핫 인코딩 (직원 이름을 카테고리 변수로 변환)\n",
    "df_dum = pd.get_dummies(df, columns=['직원'])\n",
    "print(\"\\n데이터 변환 후 데이터셋:\")\n",
    "print(df_dum)"
   ]
  },
  {
   "cell_type": "code",
   "execution_count": 7,
   "metadata": {
    "editable": true,
    "slideshow": {
     "slide_type": "subslide"
    },
    "tags": []
   },
   "outputs": [
    {
     "name": "stdout",
     "output_type": "stream",
     "text": [
      "Unique values: ['John' 'Anna' 'Peter' 'Linda' 'James']\n",
      "One-hot encoded dict: {'John': [1, 0, 0, 0, 0], 'Anna': [0, 1, 0, 0, 0], 'Peter': [0, 0, 1, 0, 0], 'Linda': [0, 0, 0, 1, 0], 'James': [0, 0, 0, 0, 1]}\n"
     ]
    },
    {
     "data": {
      "text/html": [
       "<div>\n",
       "<style scoped>\n",
       "    .dataframe tbody tr th:only-of-type {\n",
       "        vertical-align: middle;\n",
       "    }\n",
       "\n",
       "    .dataframe tbody tr th {\n",
       "        vertical-align: top;\n",
       "    }\n",
       "\n",
       "    .dataframe thead th {\n",
       "        text-align: right;\n",
       "    }\n",
       "</style>\n",
       "<table border=\"1\" class=\"dataframe\">\n",
       "  <thead>\n",
       "    <tr style=\"text-align: right;\">\n",
       "      <th></th>\n",
       "      <th>John</th>\n",
       "      <th>Anna</th>\n",
       "      <th>Peter</th>\n",
       "      <th>Linda</th>\n",
       "      <th>James</th>\n",
       "    </tr>\n",
       "  </thead>\n",
       "  <tbody>\n",
       "    <tr>\n",
       "      <th>0</th>\n",
       "      <td>1</td>\n",
       "      <td>0</td>\n",
       "      <td>0</td>\n",
       "      <td>0</td>\n",
       "      <td>0</td>\n",
       "    </tr>\n",
       "    <tr>\n",
       "      <th>1</th>\n",
       "      <td>0</td>\n",
       "      <td>1</td>\n",
       "      <td>0</td>\n",
       "      <td>0</td>\n",
       "      <td>0</td>\n",
       "    </tr>\n",
       "    <tr>\n",
       "      <th>2</th>\n",
       "      <td>0</td>\n",
       "      <td>0</td>\n",
       "      <td>1</td>\n",
       "      <td>0</td>\n",
       "      <td>0</td>\n",
       "    </tr>\n",
       "    <tr>\n",
       "      <th>3</th>\n",
       "      <td>0</td>\n",
       "      <td>0</td>\n",
       "      <td>0</td>\n",
       "      <td>1</td>\n",
       "      <td>0</td>\n",
       "    </tr>\n",
       "    <tr>\n",
       "      <th>4</th>\n",
       "      <td>0</td>\n",
       "      <td>0</td>\n",
       "      <td>0</td>\n",
       "      <td>0</td>\n",
       "      <td>1</td>\n",
       "    </tr>\n",
       "  </tbody>\n",
       "</table>\n",
       "</div>"
      ],
      "text/plain": [
       "   John  Anna  Peter  Linda  James\n",
       "0     1     0      0      0      0\n",
       "1     0     1      0      0      0\n",
       "2     0     0      1      0      0\n",
       "3     0     0      0      1      0\n",
       "4     0     0      0      0      1"
      ]
     },
     "execution_count": 7,
     "metadata": {},
     "output_type": "execute_result"
    }
   ],
   "source": [
    "# onehot encoding of df['직원'] w/o library\n",
    "def onehot_encode(column):\n",
    "    unique_values = column.unique()\n",
    "    print(f\"Unique values: {unique_values}\")\n",
    "    onehot_dict = {value: [1 if value == uv else 0 for uv in column] for value in unique_values}\n",
    "    print(f\"One-hot encoded dict: {onehot_dict}\")\n",
    "    return pd.DataFrame(onehot_dict)\n",
    "\n",
    "df_onehot = onehot_encode(df['직원'])\n",
    "df_onehot\n"
   ]
  },
  {
   "cell_type": "markdown",
   "metadata": {
    "editable": true,
    "slideshow": {
     "slide_type": "subslide"
    },
    "tags": []
   },
   "source": [
    "6. 데이터 분할"
   ]
  },
  {
   "cell_type": "code",
   "execution_count": 8,
   "metadata": {
    "colab": {
     "base_uri": "https://localhost:8080/"
    },
    "id": "-LK5sK9kulwc",
    "outputId": "dc704b55-413c-42a5-975d-e3e5b6b2c258"
   },
   "outputs": [
    {
     "name": "stdout",
     "output_type": "stream",
     "text": [
      "\n",
      "학습용 데이터셋:\n",
      "         연봉   근속연수  직원_Anna  직원_James  직원_John  직원_Linda  직원_Peter\n",
      "4  1.000000  1.000    False      True    False     False     False\n",
      "2  0.333333  0.625    False     False    False     False      True\n",
      "0  0.000000  0.000    False     False     True     False     False\n",
      "3  0.500000  0.750    False     False    False      True     False\n",
      "\n",
      "검증용 데이터셋:\n",
      "         연봉  근속연수  직원_Anna  직원_James  직원_John  직원_Linda  직원_Peter\n",
      "1  0.666667   0.5     True     False    False     False     False\n"
     ]
    }
   ],
   "source": [
    "from sklearn.model_selection import train_test_split\n",
    "\n",
    "# 데이터 분할 (학습용 80%, 검증용 20%)\n",
    "train, test = train_test_split(df_dum, test_size=0.2, random_state=42)\n",
    "print(\"\\n학습용 데이터셋:\")\n",
    "print(train)\n",
    "print(\"\\n검증용 데이터셋:\")\n",
    "print(test)"
   ]
  },
  {
   "cell_type": "code",
   "execution_count": null,
   "metadata": {},
   "outputs": [],
   "source": []
  }
 ],
 "metadata": {
  "accelerator": "GPU",
  "colab": {
   "gpuType": "T4",
   "provenance": []
  },
  "kernelspec": {
   "display_name": "env_ktbai",
   "language": "python",
   "name": "env_ktbai"
  },
  "language_info": {
   "codemirror_mode": {
    "name": "ipython",
    "version": 3
   },
   "file_extension": ".py",
   "mimetype": "text/x-python",
   "name": "python",
   "nbconvert_exporter": "python",
   "pygments_lexer": "ipython3",
   "version": "3.10.18"
  }
 },
 "nbformat": 4,
 "nbformat_minor": 4
}
