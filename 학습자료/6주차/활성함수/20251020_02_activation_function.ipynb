{
 "cells": [
  {
   "cell_type": "markdown",
   "metadata": {
    "editable": true,
    "slideshow": {
     "slide_type": ""
    },
    "tags": []
   },
   "source": [
    "## Activation Functions"
   ]
  },
  {
   "cell_type": "code",
   "execution_count": 4,
   "metadata": {
    "colab": {
     "base_uri": "https://localhost:8080/"
    },
    "editable": true,
    "id": "pAKk5AX8rX0o",
    "outputId": "1bc45108-d2e6-456c-d65d-94ad990e4e23",
    "slideshow": {
     "slide_type": ""
    },
    "tags": []
   },
   "outputs": [
    {
     "name": "stdout",
     "output_type": "stream",
     "text": [
      "입력 값: 0.5\n",
      "가중치: 0.8\n",
      "편향 값: 0.1\n",
      "가중합: 0.5\n"
     ]
    }
   ],
   "source": [
    "import numpy as np\n",
    "\n",
    "# 입력 값, 가중치, 편향 값 정의\n",
    "input_value = 0.5\n",
    "weight = 0.8\n",
    "bias = 0.1\n",
    "\n",
    "# 가중합 계산\n",
    "weighted_sum = input_value * weight + bias\n",
    "\n",
    "# 결과 출력\n",
    "print(f\"입력 값: {input_value}\")\n",
    "print(f\"가중치: {weight}\")\n",
    "print(f\"편향 값: {bias}\")\n",
    "print(f\"가중합: {weighted_sum}\")"
   ]
  },
  {
   "cell_type": "code",
   "execution_count": 5,
   "metadata": {
    "colab": {
     "base_uri": "https://localhost:8080/"
    },
    "id": "JxIEdQZErbb6",
    "outputId": "a918ca11-f4a2-4caa-e2a0-55e97ba7a96f"
   },
   "outputs": [
    {
     "name": "stdout",
     "output_type": "stream",
     "text": [
      "시그모이드 함수 출력: 0.6224593312018546\n",
      "하이퍼볼릭 탄젠트 함수 출력: 0.46211715726000974\n",
      "렐루 함수 출력: 0.5\n"
     ]
    }
   ],
   "source": [
    "# 활성화 함수 정의\n",
    "def sigmoid(x):\n",
    "    return 1 / (1 + np.exp(-x))\n",
    "\n",
    "def tanh(x):\n",
    "    return np.tanh(x)\n",
    "\n",
    "def relu(x):\n",
    "    return np.maximum(0, x)\n",
    "\n",
    "# 시그모이드 함수 적용\n",
    "output_sigmoid = sigmoid(weighted_sum)\n",
    "print(f\"시그모이드 함수 출력: {output_sigmoid}\")\n",
    "\n",
    "# 하이퍼볼릭 탄젠트 함수 적용\n",
    "output_tanh = tanh(weighted_sum)\n",
    "print(f\"하이퍼볼릭 탄젠트 함수 출력: {output_tanh}\")\n",
    "\n",
    "# 렐루 함수 적용\n",
    "output_relu = relu(weighted_sum)\n",
    "print(f\"렐루 함수 출력: {output_relu}\")"
   ]
  },
  {
   "cell_type": "code",
   "execution_count": 6,
   "metadata": {
    "colab": {
     "base_uri": "https://localhost:8080/"
    },
    "id": "J9PI0yOkrcAK",
    "outputId": "f5a100e9-b083-4b4a-a841-3d7b3fa96919"
   },
   "outputs": [
    {
     "name": "stdout",
     "output_type": "stream",
     "text": [
      "다음 층의 입력 값: 0.6224593312018546\n"
     ]
    }
   ],
   "source": [
    "# 출력 값 전달 예시\n",
    "next_layer_input = output_sigmoid  # 다음 층의 입력 값으로 시그모이드 함수의 출력을 사용\n",
    "print(f\"다음 층의 입력 값: {next_layer_input}\")"
   ]
  }
 ],
 "metadata": {
  "colab": {
   "provenance": []
  },
  "kernelspec": {
   "display_name": "Python 3 (ipykernel)",
   "language": "python",
   "name": "python3"
  },
  "language_info": {
   "codemirror_mode": {
    "name": "ipython",
    "version": 3
   },
   "file_extension": ".py",
   "mimetype": "text/x-python",
   "name": "python",
   "nbconvert_exporter": "python",
   "pygments_lexer": "ipython3",
   "version": "3.10.18"
  }
 },
 "nbformat": 4,
 "nbformat_minor": 4
}
