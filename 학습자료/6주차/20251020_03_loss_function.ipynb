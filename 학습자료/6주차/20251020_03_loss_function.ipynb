{
 "cells": [
  {
   "cell_type": "markdown",
   "metadata": {
    "editable": true,
    "slideshow": {
     "slide_type": ""
    },
    "tags": []
   },
   "source": [
    "## Loss Function"
   ]
  },
  {
   "cell_type": "code",
   "execution_count": null,
   "metadata": {
    "colab": {
     "base_uri": "https://localhost:8080/"
    },
    "editable": true,
    "id": "RzHBoC_Wrrti",
    "outputId": "f0543798-dbf6-4074-ec59-9adf1bc8286a",
    "slideshow": {
     "slide_type": ""
    },
    "tags": []
   },
   "outputs": [
    {
     "name": "stdout",
     "output_type": "stream",
     "text": [
      "예측 값: [1.  1.5 2.  2.5 3. ]\n"
     ]
    }
   ],
   "source": [
    "import numpy as np\n",
    "\n",
    "# 입력 데이터 (x)\n",
    "x = np.array([1, 2, 3, 4, 5])\n",
    "\n",
    "# 초기 가중치와 편향\n",
    "w = 0.5\n",
    "b = 0.5\n",
    "\n",
    "# 예측 값 계산\n",
    "y_pred = w * x + b\n",
    "print(\"예측 값:\", y_pred)"
   ]
  },
  {
   "cell_type": "code",
   "execution_count": 2,
   "metadata": {
    "colab": {
     "base_uri": "https://localhost:8080/"
    },
    "editable": true,
    "id": "2SVuHm2Os8QY",
    "outputId": "39b0f7aa-7bcf-415d-a905-09fec202aab9",
    "slideshow": {
     "slide_type": ""
    },
    "tags": []
   },
   "outputs": [
    {
     "name": "stdout",
     "output_type": "stream",
     "text": [
      "실제 값: [ 2.5  4.5  6.5  8.5 10.5]\n"
     ]
    }
   ],
   "source": [
    "# 실제 값 (y)\n",
    "y_actual = np.array([2.5, 4.5, 6.5, 8.5, 10.5])\n",
    "\n",
    "# 예측 값과 실제 값 비교\n",
    "print(\"실제 값:\", y_actual)"
   ]
  },
  {
   "cell_type": "code",
   "execution_count": 3,
   "metadata": {
    "colab": {
     "base_uri": "https://localhost:8080/"
    },
    "editable": true,
    "id": "-xnjLe0FtWSw",
    "outputId": "52742530-7c8c-4bd9-b838-573aaa69116f",
    "slideshow": {
     "slide_type": ""
    },
    "tags": []
   },
   "outputs": [
    {
     "name": "stdout",
     "output_type": "stream",
     "text": [
      "평균 제곱 오차 (MSE): 24.75\n"
     ]
    }
   ],
   "source": [
    "# 평균 제곱 오차 (MSE) 계산\n",
    "mse = np.mean((y_pred - y_actual) ** 2)\n",
    "print(\"평균 제곱 오차 (MSE):\", mse)"
   ]
  },
  {
   "cell_type": "code",
   "execution_count": 4,
   "metadata": {
    "colab": {
     "base_uri": "https://localhost:8080/"
    },
    "editable": true,
    "id": "V4O7HKc8tXLV",
    "outputId": "60d6ea51-b7b3-4540-c319-f548dfbaeb48",
    "slideshow": {
     "slide_type": ""
    },
    "tags": []
   },
   "outputs": [
    {
     "name": "stdout",
     "output_type": "stream",
     "text": [
      "Epoch 0: Loss = 24.75\n",
      "Epoch 10: Loss = 0.1369942111108716\n",
      "Epoch 20: Loss = 0.024172638147535317\n",
      "Epoch 30: Loss = 0.022120489021061743\n",
      "Epoch 40: Loss = 0.020669681809446217\n",
      "Epoch 50: Loss = 0.019315998201726685\n",
      "Epoch 60: Loss = 0.01805097794527969\n",
      "Epoch 70: Loss = 0.01686880492297229\n",
      "Epoch 80: Loss = 0.015764053360166213\n",
      "Epoch 90: Loss = 0.014731652863194892\n",
      "최종 가중치: 1.9238244516721517\n",
      "최종 편향: 0.7750178998239491\n"
     ]
    }
   ],
   "source": [
    "learning_rate = 0.01\n",
    "\n",
    "# 가중치 업데이트\n",
    "for epoch in range(100):\n",
    "    # 예측 값 계산\n",
    "    y_pred = w * x + b\n",
    "\n",
    "    # 오차 계산\n",
    "    mse = np.mean((y_pred - y_actual) ** 2)\n",
    "\n",
    "    # 기울기 계산\n",
    "    grad_w = 2 * np.mean((y_pred - y_actual) * x)\n",
    "    grad_b = 2 * np.mean(y_pred - y_actual)\n",
    "\n",
    "    # 가중치 업데이트\n",
    "    w -= learning_rate * grad_w\n",
    "    b -= learning_rate * grad_b\n",
    "\n",
    "    if epoch % 10 == 0:\n",
    "        print(f\"Epoch {epoch}: Loss = {mse}\")\n",
    "\n",
    "print(\"최종 가중치:\", w)\n",
    "print(\"최종 편향:\", b)"
   ]
  }
 ],
 "metadata": {
  "colab": {
   "provenance": []
  },
  "kernelspec": {
   "display_name": "Python 3 (ipykernel)",
   "language": "python",
   "name": "python3"
  },
  "language_info": {
   "codemirror_mode": {
    "name": "ipython",
    "version": 3
   },
   "file_extension": ".py",
   "mimetype": "text/x-python",
   "name": "python",
   "nbconvert_exporter": "python",
   "pygments_lexer": "ipython3",
   "version": "3.10.18"
  }
 },
 "nbformat": 4,
 "nbformat_minor": 4
}
