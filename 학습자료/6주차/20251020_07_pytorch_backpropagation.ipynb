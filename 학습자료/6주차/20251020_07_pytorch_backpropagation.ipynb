{
 "cells": [
  {
   "cell_type": "markdown",
   "metadata": {
    "editable": true,
    "slideshow": {
     "slide_type": ""
    },
    "tags": []
   },
   "source": [
    "## Backpropagation"
   ]
  },
  {
   "cell_type": "code",
   "execution_count": null,
   "metadata": {
    "editable": true,
    "id": "daOaUx9GM4Di",
    "slideshow": {
     "slide_type": ""
    },
    "tags": []
   },
   "outputs": [],
   "source": [
    "import torch\n",
    "import torch.nn as nn\n",
    "import torch.optim as optim\n",
    "\n",
    "# 입력 데이터\n",
    "inputs = torch.tensor([[0, 0],\n",
    "                       [0, 1],\n",
    "                       [1, 0],\n",
    "                       [1, 1]], dtype=torch.float32)\n",
    "\n",
    "# 출력 데이터 (AND 게이트)\n",
    "expected_output = torch.tensor([[0], [0], [0], [1]], dtype=torch.float32)"
   ]
  },
  {
   "cell_type": "code",
   "execution_count": null,
   "metadata": {
    "editable": true,
    "id": "Csx1EnPuXCFe",
    "slideshow": {
     "slide_type": ""
    },
    "tags": []
   },
   "outputs": [],
   "source": [
    "# 신경망 정의\n",
    "class SimpleNN(nn.Module):\n",
    "    def __init__(self):\n",
    "        super(SimpleNN, self).__init__()\n",
    "        self.hidden = nn.Linear(2, 2)\n",
    "        self.output = nn.Linear(2, 1)\n",
    "        self.relu = nn.ReLU()\n",
    "        self.sigmoid = nn.Sigmoid()  # 추가된 시그모이드\n",
    "\n",
    "    def forward(self, x):\n",
    "        x = self.relu(self.hidden(x))\n",
    "        x = self.sigmoid(self.output(x))  # 시그모이드 추가\n",
    "        return x"
   ]
  },
  {
   "cell_type": "code",
   "execution_count": null,
   "metadata": {
    "id": "C6dUmO_5XDQH"
   },
   "outputs": [],
   "source": [
    "# 모델, 손실 함수, 옵티마이저 정의\n",
    "model = SimpleNN()\n",
    "criterion = nn.BCELoss()  # BCELoss 사용\n",
    "optimizer = optim.SGD(model.parameters(), lr=0.1)"
   ]
  },
  {
   "cell_type": "code",
   "execution_count": null,
   "metadata": {
    "colab": {
     "base_uri": "https://localhost:8080/"
    },
    "id": "CdBPjeZqXENz",
    "outputId": "2eec1844-1133-4ede-b737-01c2706cbfcb"
   },
   "outputs": [
    {
     "name": "stdout",
     "output_type": "stream",
     "text": [
      "에포크 0 / 10000, 손실: 0.6458225250244141\n",
      "에포크 1000 / 10000, 손실: 0.015160491690039635\n",
      "에포크 2000 / 10000, 손실: 0.006317605264484882\n",
      "에포크 3000 / 10000, 손실: 0.004032701253890991\n",
      "에포크 4000 / 10000, 손실: 0.002975718816742301\n",
      "에포크 5000 / 10000, 손실: 0.0023617951665073633\n",
      "에포크 6000 / 10000, 손실: 0.0019601378589868546\n",
      "에포크 7000 / 10000, 손실: 0.0016765263862907887\n",
      "에포크 8000 / 10000, 손실: 0.0014645499177277088\n",
      "에포크 9000 / 10000, 손실: 0.001300673931837082\n"
     ]
    }
   ],
   "source": [
    "# 훈련 과정\n",
    "for epoch in range(10000):\n",
    "    # 순전파\n",
    "    outputs = model(inputs)\n",
    "    loss = criterion(outputs, expected_output)\n",
    "\n",
    "    # 역전파 및 최적화\n",
    "    optimizer.zero_grad()\n",
    "    loss.backward()\n",
    "    optimizer.step()\n",
    "\n",
    "    if epoch % 1000 == 0:\n",
    "        print(f\"에포크 {epoch} / 10000, 손실: {loss.item()}\")"
   ]
  },
  {
   "cell_type": "code",
   "execution_count": null,
   "metadata": {
    "colab": {
     "base_uri": "https://localhost:8080/"
    },
    "id": "gvlbx-FHXFPl",
    "outputId": "6050c42a-0da6-46b6-bf0b-8b8e7407e850"
   },
   "outputs": [
    {
     "name": "stdout",
     "output_type": "stream",
     "text": [
      "훈련 완료!\n",
      "최종 예측 결과 (이진 변환):\n",
      "tensor([[0],\n",
      "        [0],\n",
      "        [0],\n",
      "        [1]], dtype=torch.int32)\n"
     ]
    }
   ],
   "source": [
    "# 훈련 완료 후 예측 결과 출력\n",
    "print(\"훈련 완료!\")\n",
    "with torch.no_grad():\n",
    "    print(\"최종 예측 결과 (이진 변환):\")\n",
    "    print((outputs > 0.5).int())"
   ]
  }
 ],
 "metadata": {
  "accelerator": "GPU",
  "colab": {
   "gpuType": "T4",
   "provenance": []
  },
  "kernelspec": {
   "display_name": "Python 3 (ipykernel)",
   "language": "python",
   "name": "python3"
  },
  "language_info": {
   "codemirror_mode": {
    "name": "ipython",
    "version": 3
   },
   "file_extension": ".py",
   "mimetype": "text/x-python",
   "name": "python",
   "nbconvert_exporter": "python",
   "pygments_lexer": "ipython3",
   "version": "3.10.18"
  }
 },
 "nbformat": 4,
 "nbformat_minor": 4
}
