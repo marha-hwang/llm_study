{
 "cells": [
  {
   "cell_type": "markdown",
   "id": "9739837a-32eb-4187-89f6-630c906f6f88",
   "metadata": {
    "editable": true,
    "slideshow": {
     "slide_type": "slide"
    },
    "tags": []
   },
   "source": [
    "# 데이터 분석"
   ]
  },
  {
   "cell_type": "markdown",
   "id": "1e20b728-df90-4123-97d3-15327817181f",
   "metadata": {
    "editable": true,
    "slideshow": {
     "slide_type": "slide"
    },
    "tags": []
   },
   "source": [
    "## Numpy"
   ]
  },
  {
   "cell_type": "markdown",
   "id": "e20ef577-7ea1-40fe-be6a-c33fbbb4f580",
   "metadata": {
    "editable": true,
    "slideshow": {
     "slide_type": ""
    },
    "tags": []
   },
   "source": [
    "### NumPy의 정의\n",
    "\n",
    "- Numpy는 **대규모 다차원 배열 및 행렬 연산을 위한 고성능 수학 함수와 도구를 제공하는 파이썬 라이브러리**\n",
    "- NumPy는 대규모 다차원 배열(ndarray)과 행렬(matrix)을 처리할 수 있는 고성능 데이터 구조 제공\n",
    "- 이러한 데이터 구조를 기반으로 수학 연산, 선형대수, 통계, 변환, 기본적인 수치 계산 등이 가능하도록 다양한 함수와 도구 포함"
   ]
  },
  {
   "cell_type": "markdown",
   "id": "e2c2fa05-5532-4ecc-9614-af4cbeb38bdd",
   "metadata": {
    "editable": false,
    "slideshow": {
     "slide_type": "subslide"
    },
    "tags": []
   },
   "source": [
    "### NumPy의 주요 특징"
   ]
  },
  {
   "cell_type": "markdown",
   "id": "3c57b603-a618-4b0c-ac35-e8d9c6ddb9b0",
   "metadata": {
    "editable": true,
    "slideshow": {
     "slide_type": ""
    },
    "tags": []
   },
   "source": [
    "|  |  |\n",
    "|--|--|\n",
    "|특징|설명|\n",
    "|다차원 배열 객체 (ndarray)| NumPy는 고성능의 N차원 배열 객체를 제공하며, 동일한 데이터 타입의 요소를 효율적으로 저장하고 조작|\n",
    "|빠른 연산 속도|NumPy는 C 및 Fortran으로 구현된 내부 연산을 활용하여 파이썬 리스트보다 빠른 연산 수행|\n",
    "|브로드캐스팅|\tNumPy는 크기가 다른 배열 간의 연산을 자동으로 확장하여 반복문 없이도 효과적인 계산이 가능하도록 지원|\n",
    "|다양한 수학 함수 제공|\tNumPy는 선형대수, 통계, 난수 생성 등 수치 계산을 위한 다양한 기능을 포함|\n",
    "|강력한 인덱싱 및 슬라이싱|\tNumPy는 배열의 특정 부분을 효과적으로 선택하고 수정할 수 있도록 강력한 인덱싱 및 슬라이싱 기능을 제공|\n",
    "|다른 라이브러리와의 호환성|\tNumPy는 Pandas, SciPy, TensorFlow 등 다양한 데이터 분석 및 머신러닝 라이브러리와 원활하게 연동|"
   ]
  },
  {
   "cell_type": "markdown",
   "id": "e5df4e24-9a74-4834-98e4-77b968391c03",
   "metadata": {
    "editable": true,
    "slideshow": {
     "slide_type": "subslide"
    },
    "tags": []
   },
   "source": [
    "### 사용법"
   ]
  },
  {
   "cell_type": "code",
   "execution_count": 1,
   "id": "3c0ef7df-f5d6-4520-84fa-268cd87716e5",
   "metadata": {},
   "outputs": [
    {
     "name": "stdout",
     "output_type": "stream",
     "text": [
      "Looking in indexes: https://pypi.org/simple, https://pypi.ngc.nvidia.com\n",
      "Requirement already satisfied: numpy in /Users/jeonghyun/miniconda3/envs/env_ktbai/lib/python3.13/site-packages (2.3.1)\n"
     ]
    }
   ],
   "source": [
    "!pip install numpy"
   ]
  },
  {
   "cell_type": "code",
   "execution_count": 2,
   "id": "153ec743-f061-451b-aa5d-277595ea0e47",
   "metadata": {},
   "outputs": [
    {
     "name": "stdout",
     "output_type": "stream",
     "text": [
      "NumPy version: 2.3.1\n"
     ]
    }
   ],
   "source": [
    "import numpy as np\n",
    "\n",
    "# NumPy 버전 확인\n",
    "print(\"NumPy version:\", np.__version__)"
   ]
  },
  {
   "cell_type": "markdown",
   "id": "c16ee084-3a22-428e-ad2c-8fa35113e226",
   "metadata": {
    "editable": true,
    "slideshow": {
     "slide_type": "slide"
    },
    "tags": []
   },
   "source": [
    "## 차원(Dimension)"
   ]
  },
  {
   "cell_type": "markdown",
   "id": "1fc23bd3-7025-4d15-80da-aa0931d9d2c0",
   "metadata": {},
   "source": [
    "### NumPy 차원"
   ]
  },
  {
   "cell_type": "markdown",
   "id": "d82de504-1271-4485-931e-77d02860315d",
   "metadata": {},
   "source": [
    "<img src = 'https://towardsdatascience.com/wp-content/uploads/2024/09/1T8BqVvPTcyuXbzWubPt8Zw.png'>\n",
    "Graphical representations of arrays in one, two, and three-dimensions (from Python Tools for Scientists) (This and several future links to my book are affiliate links)\n"
   ]
  },
  {
   "cell_type": "code",
   "execution_count": 3,
   "id": "51ada4a0-e452-4d86-b8a8-562916b4b78a",
   "metadata": {
    "editable": true,
    "slideshow": {
     "slide_type": "subslide"
    },
    "tags": []
   },
   "outputs": [
    {
     "data": {
      "text/plain": [
       "(3,)"
      ]
     },
     "execution_count": 3,
     "metadata": {},
     "output_type": "execute_result"
    }
   ],
   "source": [
    "dim_1 = np.array([5, 4, 9])\n",
    "dim_1.shape"
   ]
  },
  {
   "cell_type": "code",
   "execution_count": 4,
   "id": "daf154d1-8906-46e6-9415-a90b85e165ac",
   "metadata": {},
   "outputs": [
    {
     "data": {
      "text/plain": [
       "(2, 3)"
      ]
     },
     "execution_count": 4,
     "metadata": {},
     "output_type": "execute_result"
    }
   ],
   "source": [
    "dim_2 = np.array([[4.1, 2.0, 6.7],[0.3, 9.4, 2.2]])\n",
    "dim_2.shape"
   ]
  },
  {
   "cell_type": "code",
   "execution_count": 5,
   "id": "71d55462-ad15-4de4-a43c-d8306f038110",
   "metadata": {
    "editable": true,
    "slideshow": {
     "slide_type": "subslide"
    },
    "tags": []
   },
   "outputs": [
    {
     "data": {
      "text/plain": [
       "array([[[0, 1, 0],\n",
       "        [1, 1, 0]],\n",
       "\n",
       "       [[0, 1, 1],\n",
       "        [1, 1, 0]],\n",
       "\n",
       "       [[0, 1, 1],\n",
       "        [0, 1, 1]],\n",
       "\n",
       "       [[1, 0, 0],\n",
       "        [1, 1, 1]]])"
      ]
     },
     "execution_count": 5,
     "metadata": {},
     "output_type": "execute_result"
    }
   ],
   "source": [
    "dim_3 = np.random.randint(0, 2, (4, 2, 3))\n",
    "# re_dim_3 = dim_3.reshape(2,3,4)\n",
    "dim_3"
   ]
  },
  {
   "cell_type": "code",
   "execution_count": 6,
   "id": "36ec01a7-8329-4fe9-bbc7-672c762146de",
   "metadata": {},
   "outputs": [
    {
     "data": {
      "text/plain": [
       "(4, 2, 3)"
      ]
     },
     "execution_count": 6,
     "metadata": {},
     "output_type": "execute_result"
    }
   ],
   "source": [
    "dim_3.shape"
   ]
  },
  {
   "cell_type": "code",
   "execution_count": 7,
   "id": "d577dabd-e323-4e4e-be69-a783627d8815",
   "metadata": {
    "editable": true,
    "slideshow": {
     "slide_type": "subslide"
    },
    "tags": []
   },
   "outputs": [
    {
     "data": {
      "text/plain": [
       "array([[[1, 0, 0, 1],\n",
       "        [0, 1, 0, 0],\n",
       "        [0, 1, 0, 0]],\n",
       "\n",
       "       [[1, 1, 0, 1],\n",
       "        [1, 0, 1, 0],\n",
       "        [0, 0, 0, 0]]])"
      ]
     },
     "execution_count": 7,
     "metadata": {},
     "output_type": "execute_result"
    }
   ],
   "source": [
    "re_dim_3 = np.random.randint(0, 2, (2, 3, 4))\n",
    "# re_dim_3 = dim_3.reshape(2,3,4)\n",
    "re_dim_3"
   ]
  },
  {
   "cell_type": "code",
   "execution_count": 9,
   "id": "4658692a-9461-48f1-bb18-80c8af3bac71",
   "metadata": {
    "editable": true,
    "slideshow": {
     "slide_type": ""
    },
    "tags": []
   },
   "outputs": [
    {
     "data": {
      "text/plain": [
       "(2, 3, 4)"
      ]
     },
     "execution_count": 9,
     "metadata": {},
     "output_type": "execute_result"
    }
   ],
   "source": [
    "re_dim_3.shape"
   ]
  },
  {
   "cell_type": "code",
   "execution_count": 10,
   "id": "c97b96ef-ade9-4a54-bd86-2a9b6e4d21d5",
   "metadata": {
    "editable": true,
    "slideshow": {
     "slide_type": "subslide"
    },
    "tags": []
   },
   "outputs": [
    {
     "data": {
      "text/plain": [
       "array([[[[1, 1],\n",
       "         [0, 1],\n",
       "         [0, 0]],\n",
       "\n",
       "        [[1, 1],\n",
       "         [0, 0],\n",
       "         [1, 1]],\n",
       "\n",
       "        [[0, 1],\n",
       "         [1, 0],\n",
       "         [1, 0]],\n",
       "\n",
       "        [[0, 0],\n",
       "         [0, 1],\n",
       "         [0, 0]]],\n",
       "\n",
       "\n",
       "       [[[0, 1],\n",
       "         [0, 1],\n",
       "         [0, 1]],\n",
       "\n",
       "        [[1, 0],\n",
       "         [0, 0],\n",
       "         [0, 1]],\n",
       "\n",
       "        [[0, 0],\n",
       "         [0, 1],\n",
       "         [0, 0]],\n",
       "\n",
       "        [[1, 1],\n",
       "         [1, 1],\n",
       "         [0, 0]]]])"
      ]
     },
     "execution_count": 10,
     "metadata": {},
     "output_type": "execute_result"
    }
   ],
   "source": [
    "dim_4 = np.random.randint(0, 2, (2, 4, 3, 2))\n",
    "dim_4"
   ]
  },
  {
   "cell_type": "code",
   "execution_count": 11,
   "id": "2ef9ef37-6203-4ecd-8d80-864ab0056693",
   "metadata": {
    "editable": true,
    "slideshow": {
     "slide_type": ""
    },
    "tags": []
   },
   "outputs": [
    {
     "data": {
      "text/plain": [
       "(2, 4, 3, 2)"
      ]
     },
     "execution_count": 11,
     "metadata": {},
     "output_type": "execute_result"
    }
   ],
   "source": [
    "dim_4.shape"
   ]
  },
  {
   "cell_type": "code",
   "execution_count": 12,
   "id": "ff4165e8-692b-43bb-80fa-05926b4deaf6",
   "metadata": {
    "editable": true,
    "slideshow": {
     "slide_type": "subslide"
    },
    "tags": []
   },
   "outputs": [
    {
     "name": "stdout",
     "output_type": "stream",
     "text": [
      "[[[[0. 0. 0. 0.]\n",
      "   [0. 0. 0. 0.]\n",
      "   [0. 0. 0. 0.]]\n",
      "\n",
      "  [[0. 0. 0. 0.]\n",
      "   [0. 0. 0. 0.]\n",
      "   [0. 0. 0. 0.]]]\n",
      "\n",
      "\n",
      " [[[0. 0. 0. 0.]\n",
      "   [0. 0. 0. 0.]\n",
      "   [0. 0. 0. 0.]]\n",
      "\n",
      "  [[0. 0. 0. 0.]\n",
      "   [0. 0. 0. 0.]\n",
      "   [0. 0. 0. 0.]]]\n",
      "\n",
      "\n",
      " [[[0. 0. 0. 0.]\n",
      "   [0. 0. 0. 0.]\n",
      "   [0. 0. 0. 0.]]\n",
      "\n",
      "  [[0. 0. 0. 0.]\n",
      "   [0. 0. 0. 0.]\n",
      "   [0. 0. 0. 0.]]]\n",
      "\n",
      "\n",
      " [[[0. 0. 0. 0.]\n",
      "   [0. 0. 0. 0.]\n",
      "   [0. 0. 0. 0.]]\n",
      "\n",
      "  [[0. 0. 0. 0.]\n",
      "   [0. 0. 0. 0.]\n",
      "   [0. 0. 0. 0.]]]]\n"
     ]
    }
   ],
   "source": [
    "dim_4_zero = np.zeros((4,2,3,4))\n",
    "print(dim_4_zero)\n"
   ]
  },
  {
   "cell_type": "markdown",
   "id": "5a5ace49-bd35-4663-a3bb-c4b22ad76dbe",
   "metadata": {
    "editable": true,
    "slideshow": {
     "slide_type": "subslide"
    },
    "tags": []
   },
   "source": [
    "### NumPy가 메모리를 할당하는 방법"
   ]
  },
  {
   "cell_type": "markdown",
   "id": "218c27ba-4bb0-4d80-8475-04f5bd5c00ea",
   "metadata": {
    "editable": true,
    "slideshow": {
     "slide_type": ""
    },
    "tags": []
   },
   "source": [
    "- The values of an `ndarray` are stored as a contiguous block of memory in your computer’s RAM, as shown by the \"Memory Block\" diagram\n",
    "- This is efficient, as processors prefer items in memory to be in chunks rather than randomly scattered about.\n",
    "- The latter occurs when you store data in Python datatypes like lists, which keep track of pointers to objects in memory, creating \"overhead\" that slows down processing.\n",
    "- The ndarray strides attribute is a tuple of the number of bytes to step in each dimension when traversing an array. This tuple informs NumPy on how to convert from the contiguous \"Memory Block\" to the \"Python View\" array"
   ]
  },
  {
   "cell_type": "markdown",
   "id": "45218589-3cdd-4570-bb2c-57ce973ba143",
   "metadata": {
    "editable": true,
    "slideshow": {
     "slide_type": "subslide"
    },
    "tags": []
   },
   "source": [
    "<img src='https://towardsdatascience.com/wp-content/uploads/2024/09/1Nz0HQW-oKVrzq5gD4b2geQ.png'>\n",
    "How NumPy allocates memory (from Python Tools for Scientists)(https://towardsdatascience.com/introducing-numpy-part-1-understanding-arrays-3f6fecc97e3d/)"
   ]
  },
  {
   "cell_type": "code",
   "execution_count": null,
   "id": "36da4570-fd46-4e35-b0f2-5397d57ad09a",
   "metadata": {
    "editable": true,
    "slideshow": {
     "slide_type": ""
    },
    "tags": []
   },
   "outputs": [],
   "source": [
    "arr = np.array(np.arange(0,12), dtype=np.int32).reshape(3,4)"
   ]
  },
  {
   "cell_type": "code",
   "execution_count": null,
   "id": "91844e3b-37bf-4ea4-b65e-35a511eea2cf",
   "metadata": {
    "editable": true,
    "slideshow": {
     "slide_type": ""
    },
    "tags": []
   },
   "outputs": [],
   "source": [
    "print(arr)"
   ]
  },
  {
   "cell_type": "code",
   "execution_count": null,
   "id": "ed831ba1-25bc-4d24-9dd8-2a63f7a5e7f2",
   "metadata": {
    "editable": true,
    "slideshow": {
     "slide_type": ""
    },
    "tags": []
   },
   "outputs": [],
   "source": [
    "arr.dtype"
   ]
  },
  {
   "cell_type": "code",
   "execution_count": null,
   "id": "425ac977-c988-4b81-b112-bc633b456aba",
   "metadata": {
    "editable": true,
    "slideshow": {
     "slide_type": ""
    },
    "tags": []
   },
   "outputs": [],
   "source": [
    "arr.ndim"
   ]
  },
  {
   "cell_type": "code",
   "execution_count": null,
   "id": "c8ae4f26-303f-4fb5-92f8-0abfad6b862a",
   "metadata": {
    "editable": true,
    "slideshow": {
     "slide_type": ""
    },
    "tags": []
   },
   "outputs": [],
   "source": [
    "arr.shape"
   ]
  },
  {
   "cell_type": "code",
   "execution_count": null,
   "id": "3f0e313a-4f4d-4ffe-9f38-db2a5a6c9f82",
   "metadata": {
    "editable": true,
    "slideshow": {
     "slide_type": ""
    },
    "tags": []
   },
   "outputs": [],
   "source": [
    "arr.strides"
   ]
  },
  {
   "cell_type": "code",
   "execution_count": null,
   "id": "f41f32e7-f898-4a37-8fae-21d3e13d02f3",
   "metadata": {
    "editable": true,
    "slideshow": {
     "slide_type": ""
    },
    "tags": []
   },
   "outputs": [],
   "source": [
    "np.array([1, 'a', True])"
   ]
  },
  {
   "cell_type": "code",
   "execution_count": null,
   "id": "04934f32-adcc-4eef-98f2-e2cb759a6d51",
   "metadata": {
    "editable": true,
    "slideshow": {
     "slide_type": ""
    },
    "tags": []
   },
   "outputs": [],
   "source": [
    "np.array([1, 'a', (1, 'b', True)])"
   ]
  },
  {
   "cell_type": "markdown",
   "id": "a2e654fd-0aac-4cc1-ae62-449f5d18766c",
   "metadata": {
    "editable": true,
    "slideshow": {
     "slide_type": "slide"
    },
    "tags": []
   },
   "source": [
    "## 형태(Shape)"
   ]
  },
  {
   "cell_type": "code",
   "execution_count": 13,
   "id": "6fcb659d-d115-4f14-a45c-d561217501da",
   "metadata": {
    "editable": true,
    "slideshow": {
     "slide_type": ""
    },
    "tags": []
   },
   "outputs": [],
   "source": [
    "# 스칼라 Scalar / 0-D Tensor"
   ]
  },
  {
   "cell_type": "code",
   "execution_count": 14,
   "id": "e3e70893-e9e4-4d67-8048-1995f14b361d",
   "metadata": {
    "editable": true,
    "slideshow": {
     "slide_type": ""
    },
    "tags": []
   },
   "outputs": [],
   "source": [
    "s = np.array(1)"
   ]
  },
  {
   "cell_type": "code",
   "execution_count": 15,
   "id": "56b392b9-5d1f-4106-be20-7777b10515a7",
   "metadata": {},
   "outputs": [
    {
     "data": {
      "text/plain": [
       "0"
      ]
     },
     "execution_count": 15,
     "metadata": {},
     "output_type": "execute_result"
    }
   ],
   "source": [
    "s.ndim"
   ]
  },
  {
   "cell_type": "code",
   "execution_count": 16,
   "id": "7437222d-b257-4cf1-857d-adf0dd3c47f6",
   "metadata": {},
   "outputs": [
    {
     "data": {
      "text/plain": [
       "()"
      ]
     },
     "execution_count": 16,
     "metadata": {},
     "output_type": "execute_result"
    }
   ],
   "source": [
    "s.shape"
   ]
  },
  {
   "cell_type": "code",
   "execution_count": 17,
   "id": "8560a400-7130-47fb-a8b2-a6aa056a5493",
   "metadata": {
    "editable": true,
    "slideshow": {
     "slide_type": "subslide"
    },
    "tags": []
   },
   "outputs": [],
   "source": [
    "# 벡터 Vector / 1-D Tensor"
   ]
  },
  {
   "cell_type": "code",
   "execution_count": 18,
   "id": "7475d6de-ff2f-43da-82b6-e1583341fb03",
   "metadata": {},
   "outputs": [],
   "source": [
    "v = np.array([1, 2, 3])"
   ]
  },
  {
   "cell_type": "code",
   "execution_count": 19,
   "id": "dcf33fde-c11a-4316-bd13-554481ccac3a",
   "metadata": {},
   "outputs": [
    {
     "data": {
      "text/plain": [
       "1"
      ]
     },
     "execution_count": 19,
     "metadata": {},
     "output_type": "execute_result"
    }
   ],
   "source": [
    "v.ndim"
   ]
  },
  {
   "cell_type": "code",
   "execution_count": 20,
   "id": "a43a6cb7-d51e-4753-851a-3c72fbd50911",
   "metadata": {},
   "outputs": [
    {
     "data": {
      "text/plain": [
       "(3,)"
      ]
     },
     "execution_count": 20,
     "metadata": {},
     "output_type": "execute_result"
    }
   ],
   "source": [
    "v.shape"
   ]
  },
  {
   "cell_type": "code",
   "execution_count": 21,
   "id": "0b221ae7-cfae-42fc-8486-56a585944f61",
   "metadata": {
    "editable": true,
    "slideshow": {
     "slide_type": "subslide"
    },
    "tags": []
   },
   "outputs": [],
   "source": [
    "# 행렬 Matrix / 2-D Tensor"
   ]
  },
  {
   "cell_type": "code",
   "execution_count": 22,
   "id": "d07959b8-ff0d-4415-b513-843fef6ddc81",
   "metadata": {},
   "outputs": [],
   "source": [
    "m = np.array([[1,2,3],\n",
    "              [4,5,6]])"
   ]
  },
  {
   "cell_type": "code",
   "execution_count": 23,
   "id": "67e8cf7c-5e70-4d5d-becb-0ff259c7e60e",
   "metadata": {},
   "outputs": [
    {
     "data": {
      "text/plain": [
       "2"
      ]
     },
     "execution_count": 23,
     "metadata": {},
     "output_type": "execute_result"
    }
   ],
   "source": [
    "m.ndim"
   ]
  },
  {
   "cell_type": "code",
   "execution_count": 24,
   "id": "70d91bdb-ea78-4401-9132-069b433efa43",
   "metadata": {},
   "outputs": [
    {
     "data": {
      "text/plain": [
       "(2, 3)"
      ]
     },
     "execution_count": 24,
     "metadata": {},
     "output_type": "execute_result"
    }
   ],
   "source": [
    "m.shape"
   ]
  },
  {
   "cell_type": "code",
   "execution_count": 25,
   "id": "3fa3193e-1346-460f-8fa5-9b31ce75321e",
   "metadata": {
    "editable": true,
    "slideshow": {
     "slide_type": ""
    },
    "tags": []
   },
   "outputs": [],
   "source": [
    "# 3차원 텐서 () / 3-D Tensor"
   ]
  },
  {
   "cell_type": "code",
   "execution_count": 26,
   "id": "fdd4f51b-bae7-4f50-a7c1-1873a9949133",
   "metadata": {},
   "outputs": [],
   "source": [
    "t = np.array([  \n",
    "        [[1, 2], \n",
    "         [3, 4]],\n",
    "        [[5, 6], \n",
    "         [7, 8]],\n",
    "        [[9, 10], \n",
    "         [11, 12]]\n",
    "    ])"
   ]
  },
  {
   "cell_type": "code",
   "execution_count": 27,
   "id": "22495836-6b6b-4929-a050-b36e739bd449",
   "metadata": {},
   "outputs": [
    {
     "data": {
      "text/plain": [
       "3"
      ]
     },
     "execution_count": 27,
     "metadata": {},
     "output_type": "execute_result"
    }
   ],
   "source": [
    "t.ndim"
   ]
  },
  {
   "cell_type": "code",
   "execution_count": 28,
   "id": "5367b1cd-f441-4876-9ac6-c11b11b071d3",
   "metadata": {},
   "outputs": [
    {
     "data": {
      "text/plain": [
       "(3, 2, 2)"
      ]
     },
     "execution_count": 28,
     "metadata": {},
     "output_type": "execute_result"
    }
   ],
   "source": [
    "t.shape"
   ]
  },
  {
   "cell_type": "markdown",
   "id": "badd3495-ebdc-460a-b531-6d9f04b4d0ea",
   "metadata": {
    "editable": true,
    "slideshow": {
     "slide_type": "subslide"
    },
    "tags": []
   },
   "source": [
    "### 사용 방법"
   ]
  },
  {
   "cell_type": "code",
   "execution_count": 29,
   "id": "c03a65b1-6ad5-4721-bf6b-bd68510d6cb9",
   "metadata": {
    "editable": true,
    "slideshow": {
     "slide_type": ""
    },
    "tags": []
   },
   "outputs": [
    {
     "name": "stdout",
     "output_type": "stream",
     "text": [
      "(2, 3)\n"
     ]
    }
   ],
   "source": [
    "import numpy as np\n",
    "\n",
    "# 2차원 배열 생성\n",
    "array = np.array([[1, 2, 3], [4, 5, 6]])\n",
    "\n",
    "# 배열의 형태 확인\n",
    "print(array.shape)"
   ]
  },
  {
   "cell_type": "markdown",
   "id": "6533f771-5a52-4a90-8b0b-550947481505",
   "metadata": {
    "editable": true,
    "slideshow": {
     "slide_type": "subslide"
    },
    "tags": []
   },
   "source": [
    "### 배열의 형태 변경 방법"
   ]
  },
  {
   "cell_type": "markdown",
   "id": "49c440d1-2bf5-4632-83df-da7a91879e18",
   "metadata": {
    "editable": true,
    "slideshow": {
     "slide_type": ""
    },
    "tags": []
   },
   "source": [
    "- NumPy는 배열의 형태를 동적으로 변경할 수 있는 여러 방법을 제공\n",
    "- 형태 변경을 통해 데이터를 원하는 구조로 조정하여 분석 및 처리 작업을 더욱 효율적으로 수행"
   ]
  },
  {
   "cell_type": "markdown",
   "id": "877519ca-d879-44b2-b1e1-da7a50ef95f7",
   "metadata": {
    "editable": true,
    "slideshow": {
     "slide_type": ""
    },
    "tags": []
   },
   "source": [
    "`reshape()`를 사용한 형태 변경\n",
    "- `reshape()` 메서드를 사용하면 기존 데이터를 유지한 채 새로운 형태로 배열을 변경\n",
    "- 단, 새로운 형태의 배열 크기는 원래 배열의 크기와 같아야 함"
   ]
  },
  {
   "cell_type": "code",
   "execution_count": 30,
   "id": "5632ecc4-029f-4d0a-9cd2-ee347175ee94",
   "metadata": {
    "editable": true,
    "slideshow": {
     "slide_type": ""
    },
    "tags": []
   },
   "outputs": [
    {
     "name": "stdout",
     "output_type": "stream",
     "text": [
      "[[1 2 3]\n",
      " [4 5 6]]\n"
     ]
    }
   ],
   "source": [
    "array = np.array([1, 2, 3, 4, 5, 6])\n",
    "\n",
    "reshaped_array = array.reshape(2, 3)\n",
    "print(reshaped_array)"
   ]
  },
  {
   "cell_type": "markdown",
   "id": "29b46c20-d773-43a4-a440-17d29c5cfa84",
   "metadata": {
    "editable": true,
    "slideshow": {
     "slide_type": "subslide"
    },
    "tags": []
   },
   "source": [
    "`resize()`를 사용한 형태 변경\n",
    "- resize() 함수는 원본 배열 자체를 변경하며, 필요할 경우 배열을 확장하거나 축소\n",
    "- 부족한 값은 기본적으로 0으로 채워짐"
   ]
  },
  {
   "cell_type": "code",
   "execution_count": 31,
   "id": "b6681038-6acf-4b0e-bbb2-72a9e61cc18f",
   "metadata": {
    "editable": true,
    "slideshow": {
     "slide_type": ""
    },
    "tags": []
   },
   "outputs": [
    {
     "name": "stdout",
     "output_type": "stream",
     "text": [
      "[[1 2 3]\n",
      " [4 0 0]]\n"
     ]
    }
   ],
   "source": [
    "array = np.array([1, 2, 3, 4])\n",
    "array.resize(2, 3)\n",
    "print(array)"
   ]
  },
  {
   "cell_type": "markdown",
   "id": "a210f48a-566b-4572-8eb9-16cc88d37fad",
   "metadata": {
    "editable": true,
    "slideshow": {
     "slide_type": "subslide"
    },
    "tags": []
   },
   "source": [
    "`np.newaxis`를 사용한 차원 추가\n",
    "- `np.newaxis`를 사용하면 배열에 새로운 차원을 추가"
   ]
  },
  {
   "cell_type": "code",
   "execution_count": 32,
   "id": "531db884-015f-41fb-83fa-cb118c0bccc4",
   "metadata": {
    "editable": true,
    "slideshow": {
     "slide_type": ""
    },
    "tags": []
   },
   "outputs": [
    {
     "name": "stdout",
     "output_type": "stream",
     "text": [
      "1\n",
      "(3,)\n"
     ]
    }
   ],
   "source": [
    "array = np.array([1, 2, 3])\n",
    "print(array.ndim)\n",
    "print(array.shape)"
   ]
  },
  {
   "cell_type": "code",
   "execution_count": 33,
   "id": "bbb96f6a-e3f4-4416-820a-c8f4de77ebc7",
   "metadata": {
    "editable": true,
    "slideshow": {
     "slide_type": ""
    },
    "tags": []
   },
   "outputs": [],
   "source": [
    "expanded_array = array[:, np.newaxis]"
   ]
  },
  {
   "cell_type": "code",
   "execution_count": 34,
   "id": "9e318a83-62f2-4fac-a50c-355ef4679c9d",
   "metadata": {
    "editable": true,
    "slideshow": {
     "slide_type": ""
    },
    "tags": []
   },
   "outputs": [
    {
     "data": {
      "text/plain": [
       "array([[1],\n",
       "       [2],\n",
       "       [3]])"
      ]
     },
     "execution_count": 34,
     "metadata": {},
     "output_type": "execute_result"
    }
   ],
   "source": [
    "expanded_array"
   ]
  },
  {
   "cell_type": "code",
   "execution_count": 35,
   "id": "970850d7-ce1f-468f-8103-65a86e69a17c",
   "metadata": {
    "editable": true,
    "slideshow": {
     "slide_type": ""
    },
    "tags": []
   },
   "outputs": [
    {
     "name": "stdout",
     "output_type": "stream",
     "text": [
      "2\n",
      "(3, 1)\n"
     ]
    }
   ],
   "source": [
    "print(expanded_array.ndim)\n",
    "print(expanded_array.shape)"
   ]
  },
  {
   "cell_type": "markdown",
   "id": "e6cc6e2a-1a16-4b5f-8afd-a35ee4d439c1",
   "metadata": {
    "editable": true,
    "slideshow": {
     "slide_type": "subslide"
    },
    "tags": []
   },
   "source": [
    "`flatten()`을 사용한 다차원 배열 평탄화\n",
    "- `flatten()` 메서드는 다차원 배열을 1차원 배열로 변환하는 데 사용"
   ]
  },
  {
   "cell_type": "code",
   "execution_count": 36,
   "id": "424493d4-402a-4cd0-b9c9-47d06ca0c72b",
   "metadata": {
    "editable": true,
    "slideshow": {
     "slide_type": ""
    },
    "tags": []
   },
   "outputs": [
    {
     "name": "stdout",
     "output_type": "stream",
     "text": [
      "[1 2 3 4 5 6]\n"
     ]
    }
   ],
   "source": [
    "array = np.array([[1, 2, 3], [4, 5, 6]])\n",
    "flattened_array = array.flatten()\n",
    "print(flattened_array)"
   ]
  },
  {
   "cell_type": "code",
   "execution_count": 37,
   "id": "261553cd-ee99-4492-a5e5-47ce58ba060d",
   "metadata": {
    "editable": true,
    "slideshow": {
     "slide_type": ""
    },
    "tags": []
   },
   "outputs": [],
   "source": [
    "flattened_array[-1] = 999"
   ]
  },
  {
   "cell_type": "code",
   "execution_count": 38,
   "id": "86e5fef7-19d5-4346-99fd-dadcabb7fba4",
   "metadata": {
    "editable": true,
    "slideshow": {
     "slide_type": ""
    },
    "tags": []
   },
   "outputs": [
    {
     "data": {
      "text/plain": [
       "array([  1,   2,   3,   4,   5, 999])"
      ]
     },
     "execution_count": 38,
     "metadata": {},
     "output_type": "execute_result"
    }
   ],
   "source": [
    "flattened_array"
   ]
  },
  {
   "cell_type": "code",
   "execution_count": 39,
   "id": "8ed0d78e-769e-46a7-ac5b-12b359ea11d0",
   "metadata": {
    "editable": true,
    "slideshow": {
     "slide_type": ""
    },
    "tags": []
   },
   "outputs": [
    {
     "data": {
      "text/plain": [
       "array([[1, 2, 3],\n",
       "       [4, 5, 6]])"
      ]
     },
     "execution_count": 39,
     "metadata": {},
     "output_type": "execute_result"
    }
   ],
   "source": [
    "array"
   ]
  },
  {
   "cell_type": "markdown",
   "id": "0f92ed0e-feca-48a0-aada-2f57cc089ba6",
   "metadata": {
    "editable": true,
    "slideshow": {
     "slide_type": "subslide"
    },
    "tags": []
   },
   "source": [
    "`ravel()`을 사용한 다차원 배열 평탄화 (참조 반환)\n",
    "- ravel() 메서드는 다차원 배열을 1차원으로 변환하지만, 원본 배열에 대한 참조(view)를 반환\n",
    "- 즉, 반환된 배열을 수정하면 원본 배열도 변경"
   ]
  },
  {
   "cell_type": "code",
   "execution_count": 100,
   "id": "42008602-4a60-42dc-8de3-bd21166cf0de",
   "metadata": {
    "editable": true,
    "slideshow": {
     "slide_type": ""
    },
    "tags": []
   },
   "outputs": [
    {
     "name": "stdout",
     "output_type": "stream",
     "text": [
      "array :\n",
      " [[1 2 3]\n",
      " [4 5 6]]\n",
      "raveled_array:\n",
      " [1 2 3 4 5 6]\n"
     ]
    }
   ],
   "source": [
    "array = np.array([[1, 2, 3], [4, 5, 6]])\n",
    "print('array :\\n', array)\n",
    "raveled_array = array.ravel()\n",
    "print('raveled_array:\\n', raveled_array)"
   ]
  },
  {
   "cell_type": "code",
   "execution_count": 102,
   "id": "15419feb-5989-4f5a-acf6-c0e5c8f01d95",
   "metadata": {
    "editable": true,
    "slideshow": {
     "slide_type": ""
    },
    "tags": []
   },
   "outputs": [
    {
     "name": "stdout",
     "output_type": "stream",
     "text": [
      "array [0]요소 변경후 :\n",
      " [[99  2  3]\n",
      " [ 4  5  6]]\n"
     ]
    }
   ],
   "source": [
    "# 참조를 통한 원본 변경 확인\n",
    "raveled_array[0] = 99\n",
    "print('array [0]요소 변경후 :\\n', array)"
   ]
  },
  {
   "cell_type": "markdown",
   "id": "a2bdf55e-38c2-4fe4-b0c9-13ff8add5427",
   "metadata": {
    "editable": true,
    "slideshow": {
     "slide_type": ""
    },
    "tags": []
   },
   "source": [
    "위 코드에서 ravel()을 사용하여 배열을 1차원으로 변환한 후, 반환된 배열의 첫 번째 요소를 수정하면 원본 배열도 변경되는 것을 확인"
   ]
  },
  {
   "cell_type": "markdown",
   "id": "77fd8bcb-2742-411f-a651-71effb626df9",
   "metadata": {
    "editable": true,
    "slideshow": {
     "slide_type": "subslide"
    },
    "tags": []
   },
   "source": [
    "`transpose()`를 사용한 배열 축 전환\n",
    "- `transpose()` 메서드는 배열의 차원을 전환하여 데이터를 새로운 방식으로 재배치할 수 있도록 함"
   ]
  },
  {
   "cell_type": "code",
   "execution_count": 42,
   "id": "ae707074-6c10-469c-80a1-ff092230bbcb",
   "metadata": {
    "editable": true,
    "slideshow": {
     "slide_type": ""
    },
    "tags": []
   },
   "outputs": [
    {
     "name": "stdout",
     "output_type": "stream",
     "text": [
      "[[1 2 3]\n",
      " [4 5 6]]\n"
     ]
    }
   ],
   "source": [
    "array = np.array([[1, 2, 3], [4, 5, 6]])\n",
    "print(array)"
   ]
  },
  {
   "cell_type": "code",
   "execution_count": 43,
   "id": "9c6be560-485f-4eed-b7a1-daf52ecc38b1",
   "metadata": {
    "editable": true,
    "slideshow": {
     "slide_type": ""
    },
    "tags": []
   },
   "outputs": [
    {
     "name": "stdout",
     "output_type": "stream",
     "text": [
      "[[1 4]\n",
      " [2 5]\n",
      " [3 6]]\n"
     ]
    }
   ],
   "source": [
    "transposed_array = array.transpose()\n",
    "print(transposed_array)"
   ]
  },
  {
   "cell_type": "code",
   "execution_count": null,
   "id": "0c944103-4709-4242-b36c-fc02e98dbcdd",
   "metadata": {
    "editable": true,
    "slideshow": {
     "slide_type": ""
    },
    "tags": []
   },
   "outputs": [],
   "source": []
  },
  {
   "cell_type": "markdown",
   "id": "85bd35a2-64db-4433-a78c-41aeda6e6106",
   "metadata": {
    "editable": true,
    "slideshow": {
     "slide_type": "slide"
    },
    "tags": []
   },
   "source": [
    "## 데이터 타입(Data Type) "
   ]
  },
  {
   "cell_type": "markdown",
   "id": "8b74ddc0-4373-4ce4-a1ab-283fa1d716f5",
   "metadata": {
    "editable": true,
    "slideshow": {
     "slide_type": ""
    },
    "tags": []
   },
   "source": [
    "| | | |\n",
    "|-|-|-|\n",
    "|데이터 타입|\t설명|\t예시|\n",
    "|정수형<br>(Integers)\t|부호 있는 또는 없는 정수를 저장하는 타입<br>뒤의 숫자는 부동소수점을 저장하는 데 쓰이는 비트 수를 의미함|int8, int16, int32, int64, uint8, uint16|\n",
    "|부동소수점형<br>(Floating Point)|소수점을 포함한 숫자를 저장하는 타입|\tfloat16, float32, float64|\n",
    "|복소수형<br>(Complex Numbers)|\t실수와 허수를 포함한 복소수를 저장하는 타입|\tcomplex64, complex128|\n",
    "|문자열형<br>(Strings)|\t고정된 길이의 문자열을 저장하는 타입|\tstr_ 또는 unicode_|\n",
    "|불리언형<br>(Boolean)|\tTrue 또는 False 값을 저장하는 타입|\tbool_|\n",
    "|객체형<br>(Object)|\t파이썬 객체를 포함할 수 있는 타입|\tobject_|\n",
    "|유니버설 타입<br>(Generic)|\t특정 크기에 국한되지 않는 범용 타입|\tint_, float_|"
   ]
  },
  {
   "cell_type": "markdown",
   "id": "69a5e0d5-3a4f-4c5f-b20b-a8c9244d8824",
   "metadata": {
    "editable": true,
    "slideshow": {
     "slide_type": "subslide"
    },
    "tags": []
   },
   "source": [
    "### NumPy 데이터 타입의 특징\n",
    "- NumPy에서 제공하는 데이터 타입은 C 언어의 기본 데이터 타입을 기반으로 함\n",
    "- 일반적인 파이썬의 데이터 타입보다 메모리 사용량이 적고, 연산 속도가 빠른 것이 특징\n",
    "- Python의 기본 리스트는 서로 다른 데이터 타입을 혼합할 수 있지만, NumPy 배열은 단일 데이터 타입만을 허용"
   ]
  },
  {
   "cell_type": "markdown",
   "id": "f80872dd-0e6f-45a3-ade7-13caf06fffbe",
   "metadata": {
    "editable": true,
    "slideshow": {
     "slide_type": ""
    },
    "tags": []
   },
   "source": [
    "| | |\n",
    "|------------|-|\n",
    "|특징         |\t설명|\n",
    "|정확한 크기 지정|\tNumPy는 각 데이터 타입의 크기를 명확하게 정의할 수 있도록 비트(bit) 단위의 크기를 지정. 예를 들어, int32는 32비트 크기의 정수를 의미|\n",
    "|동일한 타입 요소 유지|\tNumPy 배열은 모든 요소가 동일한 데이터 타입을 가져야 함|\n",
    "|자동 형변환 기능|\t배열을 생성할 때, NumPy는 입력된 데이터에 따라 적절한 데이터 타입을 자동으로 설정<br>그러나 명시적 형 변환을 통해 원하는 타입으로 변경 가능|"
   ]
  },
  {
   "cell_type": "markdown",
   "id": "c68a9212-9584-4230-81e3-cdb35f039101",
   "metadata": {
    "editable": true,
    "slideshow": {
     "slide_type": "subslide"
    },
    "tags": []
   },
   "source": [
    "### NumPy 데이터 타입 사용 이유\n",
    "- 데이터 타입은 메모리를 절약하고 연산 속도를 높이기 위해서 사용\n",
    "- NumPy에서 데이터 타입은 배열의 각 요소가 가질 수 있는 값의 유형을 지정하는 중요한 속성\n",
    "- 데이터 타입을 명확하게 정의하면 메모리 효율성, 연산 속도 향상, 데이터의 일관성 유지, 시스템 간 호환성 등 다양한 이점을 얻을 수 있음\n",
    "- Python의 기본 리스트는 서로 다른 데이터 타입을 혼합할 수 있지만, NumPy 배열은 단일 데이터 타입만을 허용"
   ]
  },
  {
   "cell_type": "markdown",
   "id": "3fff69d0-a794-4cb4-aca3-4c4522f04aef",
   "metadata": {
    "editable": true,
    "slideshow": {
     "slide_type": ""
    },
    "tags": []
   },
   "source": [
    "| | |\n",
    "|--|--|\n",
    "|이유|\t설명|\n",
    "|메모리 효율성 향상|\tNumPy 배열은 각 요소에 대해 고정된 크기의 메모리를 할당하므로,Python의 동적 리스트보다 메모리를 적게 사용<br>예를 들어, int8 타입을 사용하면 각 요소가 1바이트만 차지하므로 대량의 데이터를 효율적으로 저장|\n",
    "|연산 속도 향상|\tNumPy는 배열의 요소가 동일한 데이터 타입을 가지므로, 내부적으로 최적화된 C 기반 연산을 수행하여 Python의 기본 리스트보다 훨씬 빠른 연산 속도를 제공<br>대규모 데이터 분석 및 머신러닝 연산 시 성능이 중요한 요소|\n",
    "|데이터 일관성 유지|\t모든 요소가 동일한 데이터 타입을 가지므로, 연산 중 불필요한 형 변환이 발생하지 않으며, 일관된 데이터 처리 및 안정적인 계산이 가능<br>데이터 무결성을 보장하는 데 중요한 역할을 합니다.|\n",
    "|시스템 및 라이브러리 간 호환성|\tNumPy의 데이터 타입은 C, Fortran과 같은 저수준 언어와 호환되도록 설계되어 있어, 다른 시스템 및 라이브러리와 데이터를 주고받을 때 효율적<br>머신러닝, 시뮬레이션, 데이터 분석 등 다양한 분야에서 필수적인 요소|"
   ]
  },
  {
   "cell_type": "markdown",
   "id": "886d9ec4-c9c8-4f56-bbbe-4450661baca5",
   "metadata": {
    "editable": true,
    "slideshow": {
     "slide_type": "subslide"
    },
    "tags": []
   },
   "source": [
    "### 사용방법"
   ]
  },
  {
   "cell_type": "code",
   "execution_count": 44,
   "id": "bee9e386-18e1-4a8f-b96a-d60737c7c68e",
   "metadata": {
    "editable": true,
    "slideshow": {
     "slide_type": ""
    },
    "tags": []
   },
   "outputs": [
    {
     "name": "stdout",
     "output_type": "stream",
     "text": [
      "int64\n"
     ]
    }
   ],
   "source": [
    "import numpy as np\n",
    "\n",
    "# 정수형 배열 생성\n",
    "array = np.array([10, 20, 30])\n",
    "print(array.dtype)"
   ]
  },
  {
   "cell_type": "markdown",
   "id": "3f0f15d6-ce52-403e-b2ef-5a39c3e3b9ba",
   "metadata": {
    "editable": true,
    "slideshow": {
     "slide_type": ""
    },
    "tags": []
   },
   "source": [
    "배열 생성 시 데이터 타입 지정"
   ]
  },
  {
   "cell_type": "code",
   "execution_count": 45,
   "id": "1577418d-a3c6-486b-9fb4-e3af921e2d22",
   "metadata": {
    "editable": true,
    "slideshow": {
     "slide_type": ""
    },
    "tags": []
   },
   "outputs": [
    {
     "name": "stdout",
     "output_type": "stream",
     "text": [
      "int32\n",
      "float64\n",
      "<U6\n"
     ]
    }
   ],
   "source": [
    "import numpy as np\n",
    "\n",
    "# int32 타입의 정수형 배열 생성\n",
    "int_array = np.array([1, 2, 3], dtype=np.int32)\n",
    "print(int_array.dtype)\n",
    "\n",
    "# float64 타입의 부동소수점 배열 생성\n",
    "float_array = np.array([1.5, 2.3, 3.7], dtype=np.float64)\n",
    "print(float_array.dtype)\n",
    "\n",
    "# 문자열 배열 생성\n",
    "string_array = np.array([\"apple\", \"banana\", \"cherry\"], dtype=np.str_)\n",
    "print(string_array.dtype)\n",
    "\n",
    "# int32       # (환경에 따라 다를 수 있음)\n",
    "# float64     # (환경에 따라 다를 수 있음)\n",
    "# <U6         # (최대 6자의 유니코드 문자열)"
   ]
  },
  {
   "cell_type": "markdown",
   "id": "d0edcac5-5f21-454c-b071-14adfa902fbc",
   "metadata": {
    "editable": true,
    "slideshow": {
     "slide_type": "subslide"
    },
    "tags": []
   },
   "source": [
    "Q: 데이터 타입이 int32일 때 32비트 이상의 값을 할당하면 어떻게 되나요?"
   ]
  },
  {
   "cell_type": "markdown",
   "id": "60416e07-bc84-473d-9cc6-5a52e2910fd3",
   "metadata": {
    "editable": true,
    "slideshow": {
     "slide_type": ""
    },
    "tags": []
   },
   "source": [
    "> nt32는 -2,147,483,648부터 2,147,483,647까지만 표현할 수 있습니다. \n",
    "이 범위를 넘어서는 값을 할당하면 오버플로우(overflow)가 발생하여 값이 잘못 저장됩니다. \n",
    "예를 들어 np.int32(2_147_483_648)을 하면 정상적인 값이 아니라 범위를 벗어난 수가 잘린 형태로 저장됩니다."
   ]
  },
  {
   "cell_type": "code",
   "execution_count": 46,
   "id": "39039425-bdce-4a86-85c6-ac2d44976975",
   "metadata": {
    "editable": true,
    "slideshow": {
     "slide_type": ""
    },
    "tags": []
   },
   "outputs": [
    {
     "ename": "OverflowError",
     "evalue": "Python integer 2147483648 out of bounds for int32",
     "output_type": "error",
     "traceback": [
      "\u001b[31m---------------------------------------------------------------------------\u001b[39m",
      "\u001b[31mOverflowError\u001b[39m                             Traceback (most recent call last)",
      "\u001b[36mCell\u001b[39m\u001b[36m \u001b[39m\u001b[32mIn[46]\u001b[39m\u001b[32m, line 3\u001b[39m\n\u001b[32m      1\u001b[39m \u001b[38;5;28;01mimport\u001b[39;00m\u001b[38;5;250m \u001b[39m\u001b[34;01mnumpy\u001b[39;00m\u001b[38;5;250m \u001b[39m\u001b[38;5;28;01mas\u001b[39;00m\u001b[38;5;250m \u001b[39m\u001b[34;01mnp\u001b[39;00m\n\u001b[32m----> \u001b[39m\u001b[32m3\u001b[39m x = \u001b[43mnp\u001b[49m\u001b[43m.\u001b[49m\u001b[43mint32\u001b[49m\u001b[43m(\u001b[49m\u001b[32;43m2_147_483_648\u001b[39;49m\u001b[43m)\u001b[49m   \u001b[38;5;66;03m# int32의 최대값 + 1\u001b[39;00m\n\u001b[32m      4\u001b[39m y = np.int32(-\u001b[32m2_147_483_649\u001b[39m)  \u001b[38;5;66;03m# int32의 최소값 - 1\u001b[39;00m\n\u001b[32m      6\u001b[39m \u001b[38;5;28mprint\u001b[39m(\u001b[33m\"\u001b[39m\u001b[33mx:\u001b[39m\u001b[33m\"\u001b[39m, x)\n",
      "\u001b[31mOverflowError\u001b[39m: Python integer 2147483648 out of bounds for int32"
     ]
    }
   ],
   "source": [
    "import numpy as np\n",
    "\n",
    "x = np.int32(2_147_483_648)   # int32의 최대값 + 1\n",
    "y = np.int32(-2_147_483_649)  # int32의 최소값 - 1\n",
    "\n",
    "print(\"x:\", x)\n",
    "print(\"y:\", y)"
   ]
  },
  {
   "cell_type": "code",
   "execution_count": 47,
   "id": "28d94632-41c5-4cb2-a57c-19cce8d74c6a",
   "metadata": {
    "editable": true,
    "slideshow": {
     "slide_type": ""
    },
    "tags": []
   },
   "outputs": [
    {
     "data": {
      "text/plain": [
       "4294967296"
      ]
     },
     "execution_count": 47,
     "metadata": {},
     "output_type": "execute_result"
    }
   ],
   "source": [
    "2 ** 32"
   ]
  },
  {
   "cell_type": "code",
   "execution_count": 48,
   "id": "7577c207-8c62-49b9-afc8-fe0ef8e2149c",
   "metadata": {
    "editable": true,
    "slideshow": {
     "slide_type": ""
    },
    "tags": []
   },
   "outputs": [
    {
     "data": {
      "text/plain": [
       "4294967296"
      ]
     },
     "execution_count": 48,
     "metadata": {},
     "output_type": "execute_result"
    }
   ],
   "source": [
    "abs(-2_147_483_648) + 2_147_483_647 + len([0])"
   ]
  },
  {
   "cell_type": "markdown",
   "id": "707104fc-97d4-4cb0-8cfc-4d93364b20df",
   "metadata": {
    "editable": true,
    "slideshow": {
     "slide_type": "subslide"
    },
    "tags": []
   },
   "source": [
    "### 배열 데이터 타입 속성 확인"
   ]
  },
  {
   "cell_type": "markdown",
   "id": "43aa3aa8-5a51-4432-a072-eadd9936d2ba",
   "metadata": {
    "editable": true,
    "slideshow": {
     "slide_type": ""
    },
    "tags": []
   },
   "source": [
    "- NumPy 배열의 여러 속성을 활용하면 데이터 타입과 관련된 유용한 정보를 얻을 수 있음"
   ]
  },
  {
   "cell_type": "code",
   "execution_count": 49,
   "id": "fdefd86f-3123-48a8-895f-81e82bd76b70",
   "metadata": {
    "editable": true,
    "slideshow": {
     "slide_type": ""
    },
    "tags": []
   },
   "outputs": [
    {
     "name": "stdout",
     "output_type": "stream",
     "text": [
      "int16\n",
      "2\n",
      "6\n"
     ]
    }
   ],
   "source": [
    "array = np.array([10, 20, 30], dtype=np.int16)\n",
    "\n",
    "print(array.dtype)    # 배열의 데이터 타입을 반환 출력: int16\n",
    "print(array.itemsize) # 배열의 각 요소가 차지하는 바이트 크기 확인 출력: 2 \n",
    "print(array.nbytes)   # 배열 전체의 메모리 사용량 확인 출력: 6 \n",
    "\n",
    "# int16   # (환경에 따라 다를 수 있음)\n",
    "# 2       # (각 요소가 2바이트)\n",
    "# 6       # (3개 요소 * 2바이트)"
   ]
  },
  {
   "cell_type": "markdown",
   "id": "44a95f53-5247-4534-a292-6a9426e2ab47",
   "metadata": {
    "editable": true,
    "slideshow": {
     "slide_type": "subslide"
    },
    "tags": []
   },
   "source": [
    "### 데이터 타입 변환"
   ]
  },
  {
   "cell_type": "markdown",
   "id": "54f9e130-d381-4b20-9724-457f123dc4f2",
   "metadata": {
    "editable": true,
    "slideshow": {
     "slide_type": ""
    },
    "tags": []
   },
   "source": [
    "- NumPy에서는 astype() 메서드를 사용하여 기존 배열의 데이터 타입을 다른 타입으로 변환"
   ]
  },
  {
   "cell_type": "code",
   "execution_count": 50,
   "id": "036b8815-07f5-44b2-84f8-c696eca04f1d",
   "metadata": {
    "editable": true,
    "slideshow": {
     "slide_type": ""
    },
    "tags": []
   },
   "outputs": [
    {
     "name": "stdout",
     "output_type": "stream",
     "text": [
      "float64\n",
      "int8\n"
     ]
    }
   ],
   "source": [
    "array = np.array([1, 2, 3], dtype=np.int32)\n",
    "\n",
    "# int32 -> float64로 변환\n",
    "converted_array = array.astype(np.float64)\n",
    "print(converted_array.dtype)\n",
    "\n",
    "# float64 -> int8로 변환 (데이터 손실 주의)\n",
    "converted_int_array = converted_array.astype(np.int8)\n",
    "print(converted_int_array.dtype)"
   ]
  },
  {
   "cell_type": "code",
   "execution_count": null,
   "id": "3d309d7e-560b-4f3e-92fd-331381adf20f",
   "metadata": {
    "editable": true,
    "slideshow": {
     "slide_type": ""
    },
    "tags": []
   },
   "outputs": [],
   "source": []
  },
  {
   "cell_type": "markdown",
   "id": "50f358ae-1e07-4afc-92a1-9949be773585",
   "metadata": {
    "editable": true,
    "slideshow": {
     "slide_type": "slide"
    },
    "tags": []
   },
   "source": [
    "## 인덱싱(Indexing)\n",
    "- Indexing은 배열의 특정 요소에 접근하거나 값을 참조하기 위한 방법\n",
    "- 인덱싱을 사용하면 배열의 개별 요소뿐만 아니라 특정 범위의 요소에도 접근할 수 있으며, 데이터를 효과적으로 조회하고 조작 가능\n",
    "- NumPy의 인덱싱은 단순한 1차원 배열뿐만 아니라 다차원 배열에서도 사용되며, 배열의 크기와 차원에 따라 다양한 접근 방법을 제공\n",
    "- `start:end` 슬라이싱 시 `start`는 포함되지만 `end`는 포함되지 않는 점을 유의"
   ]
  },
  {
   "cell_type": "markdown",
   "id": "ac1730e7-3720-403a-bf7c-33102a496590",
   "metadata": {
    "editable": true,
    "slideshow": {
     "slide_type": "subslide"
    },
    "tags": []
   },
   "source": [
    "### 정수 인덱싱 (Integer Indexing)"
   ]
  },
  {
   "cell_type": "code",
   "execution_count": 51,
   "id": "77c92619-bad0-4de4-8030-41c3fb7a8c37",
   "metadata": {
    "editable": true,
    "slideshow": {
     "slide_type": ""
    },
    "tags": []
   },
   "outputs": [
    {
     "name": "stdout",
     "output_type": "stream",
     "text": [
      "10\n",
      "40\n",
      "6\n"
     ]
    }
   ],
   "source": [
    "# 1차원 배열\n",
    "array = np.array([10, 20, 30, 40])\n",
    "print(array[0])\n",
    "print(array[-1])\n",
    "\n",
    "# 2차원 배열\n",
    "matrix = np.array([[1, 2, 3], [4, 5, 6]])\n",
    "print(matrix[1, 2])\n",
    "\n",
    "# 10\n",
    "# 40    # (마지막 요소)\n",
    "# 6     # (2번째 행, 3번째 열)"
   ]
  },
  {
   "cell_type": "markdown",
   "id": "2ef8621e-f30c-4b81-bcc6-c12853073f47",
   "metadata": {
    "editable": true,
    "slideshow": {
     "slide_type": "subslide"
    },
    "tags": []
   },
   "source": [
    "Q: 배열에 [숫자, 숫자]처럼 작성하는 문법은 무엇인가요?\n",
    "\n",
    "> 이것은 인덱싱(indexing) 문법으로, 다차원 배열에서 특정 위치의 원소를 지정할 때 사용합니다. 첫 번째 숫자는 행(row) 인덱스, 두 번째 숫자는 열(column) 인덱스를 의미합니다. 예를 들어 matrix[1, 2]는 2번째 행, 3번째 열의 원소를 가리킵니다."
   ]
  },
  {
   "cell_type": "markdown",
   "id": "6db9b49b-a8df-482f-a743-a5af43c5ef71",
   "metadata": {
    "editable": true,
    "slideshow": {
     "slide_type": "subslide"
    },
    "tags": []
   },
   "source": [
    "### 슬라이싱 (Slicing)\n",
    "- 슬라이싱은 배열의 특정 범위를 선택하는 방법으로, start:end:step 형식으로 요소를 추출"
   ]
  },
  {
   "cell_type": "code",
   "execution_count": 52,
   "id": "285c9592-cb4b-45eb-9c02-fec4f94a043d",
   "metadata": {
    "editable": true,
    "slideshow": {
     "slide_type": ""
    },
    "tags": []
   },
   "outputs": [
    {
     "name": "stdout",
     "output_type": "stream",
     "text": [
      "[20 30 40]\n",
      "[10 20 30]\n",
      "[10 30 50]\n"
     ]
    }
   ],
   "source": [
    "array = np.array([10, 20, 30, 40, 50])\n",
    "\n",
    "print(array[1:4])\n",
    "print(array[:3])   \n",
    "print(array[::2])\n",
    "\n",
    "# [20 30 40]   # (1번부터 3번 인덱스까지)\n",
    "# [10 20 30]   # (처음부터 2번 인덱스까지)\n",
    "# [10 30 50]   # (0, 2, 4 인덱스만 선택)"
   ]
  },
  {
   "cell_type": "markdown",
   "id": "e8ad81ea-be45-4e65-8c04-4863287dde24",
   "metadata": {
    "editable": true,
    "slideshow": {
     "slide_type": "subslide"
    },
    "tags": []
   },
   "source": [
    "### 불리언 인덱싱 (Boolean Indexing)\n",
    "- 불리언 인덱싱은 조건식 결과(True/False 배열)를 이용해 원하는 원소만 선택하는 방법"
   ]
  },
  {
   "cell_type": "code",
   "execution_count": 53,
   "id": "1300c2f7-e864-4cbb-b88b-a30f86b372fc",
   "metadata": {
    "editable": true,
    "slideshow": {
     "slide_type": ""
    },
    "tags": []
   },
   "outputs": [],
   "source": [
    "data = np.array([5, 10, 15, 20, 25])"
   ]
  },
  {
   "cell_type": "code",
   "execution_count": 54,
   "id": "9576dd5f-d2c3-4739-9678-f32aaa51a19b",
   "metadata": {
    "editable": true,
    "slideshow": {
     "slide_type": ""
    },
    "tags": []
   },
   "outputs": [
    {
     "name": "stdout",
     "output_type": "stream",
     "text": [
      "filtered:  [15 20 25]\n"
     ]
    }
   ],
   "source": [
    "# 10보다 큰 요소만 선택\n",
    "filtered = data[data > 10]\n",
    "print('filtered: ', filtered)"
   ]
  },
  {
   "cell_type": "code",
   "execution_count": 55,
   "id": "cb8b6ab3-8ca1-4c08-bf86-98f4e5964648",
   "metadata": {
    "editable": true,
    "slideshow": {
     "slide_type": ""
    },
    "tags": []
   },
   "outputs": [
    {
     "name": "stdout",
     "output_type": "stream",
     "text": [
      "even_numbers:  [10 20]\n"
     ]
    }
   ],
   "source": [
    "# 짝수만 선택\n",
    "even_numbers = data[data % 2 == 0]\n",
    "print('even_numbers: ', even_numbers)"
   ]
  },
  {
   "cell_type": "markdown",
   "id": "1281e873-56c5-4ed1-b73c-cc34d232eba0",
   "metadata": {
    "editable": true,
    "slideshow": {
     "slide_type": "subslide"
    },
    "tags": []
   },
   "source": [
    "### 팬시 인덱싱 (Fancy Indexing)\n",
    "- 리스트나 배열을 사용하여 여러 개의 특정 요소를 한 번에 선택하는 방식"
   ]
  },
  {
   "cell_type": "code",
   "execution_count": 56,
   "id": "5ee1b1ec-85dc-48c3-a07f-5384edfd1202",
   "metadata": {
    "editable": true,
    "slideshow": {
     "slide_type": ""
    },
    "tags": []
   },
   "outputs": [],
   "source": [
    "array = np.array([10, 20, 30, 40, 50])"
   ]
  },
  {
   "cell_type": "code",
   "execution_count": 57,
   "id": "1f9c9699-2a03-40ed-b06f-680195741950",
   "metadata": {
    "editable": true,
    "slideshow": {
     "slide_type": ""
    },
    "tags": []
   },
   "outputs": [
    {
     "name": "stdout",
     "output_type": "stream",
     "text": [
      "[10 30 50]\n"
     ]
    }
   ],
   "source": [
    "# 특정 인덱스 선택\n",
    "indices = [0, 2, 4]\n",
    "selected = array[indices]\n",
    "print(selected)  # 출력: [10 30 50]"
   ]
  },
  {
   "cell_type": "code",
   "execution_count": 58,
   "id": "aa5bab77-94e3-4906-ae96-b8f850836157",
   "metadata": {
    "editable": true,
    "slideshow": {
     "slide_type": ""
    },
    "tags": []
   },
   "outputs": [
    {
     "name": "stdout",
     "output_type": "stream",
     "text": [
      "[[1 2]\n",
      " [5 6]]\n"
     ]
    }
   ],
   "source": [
    "# 2차원 배열에서 특정 행 선택\n",
    "matrix = np.array([[1, 2], [3, 4], [5, 6]])\n",
    "rows = [0, 2]\n",
    "print(matrix[rows])  # 출력: [[1 2] [5 6]]"
   ]
  },
  {
   "cell_type": "markdown",
   "id": "8641018f-78ee-4c48-b814-ecbb2f8453eb",
   "metadata": {
    "editable": true,
    "slideshow": {
     "slide_type": "subslide"
    },
    "tags": []
   },
   "source": [
    "### 다차원 배열에서의 인덱싱\n",
    "- NumPy는 2차원 이상의 배열에서도 특정 행과 열을 조합하여 요소를 추출\n",
    "- 배열의 각 축(axis)에 대해 개별적으로 접근 가능"
   ]
  },
  {
   "cell_type": "code",
   "execution_count": 59,
   "id": "06d17ac3-81bb-42c1-9db7-5f26acf73f22",
   "metadata": {
    "editable": true,
    "slideshow": {
     "slide_type": ""
    },
    "tags": []
   },
   "outputs": [],
   "source": [
    "matrix = np.array([[1, 2, 3],\n",
    "                   [4, 5, 6],\n",
    "                   [7, 8, 9]])"
   ]
  },
  {
   "cell_type": "code",
   "execution_count": 60,
   "id": "e411fa53-8c05-4bac-9649-4b1bf40aa2b2",
   "metadata": {
    "editable": true,
    "slideshow": {
     "slide_type": ""
    },
    "tags": []
   },
   "outputs": [
    {
     "name": "stdout",
     "output_type": "stream",
     "text": [
      "6\n"
     ]
    }
   ],
   "source": [
    "# 특정 요소 접근\n",
    "print(matrix[1, 2]) # 2행 3열"
   ]
  },
  {
   "cell_type": "code",
   "execution_count": 61,
   "id": "071c1e82-9944-4b96-843f-31c721e17d20",
   "metadata": {
    "editable": true,
    "slideshow": {
     "slide_type": ""
    },
    "tags": []
   },
   "outputs": [
    {
     "name": "stdout",
     "output_type": "stream",
     "text": [
      "[[4 5 6]\n",
      " [7 8 9]]\n"
     ]
    }
   ],
   "source": [
    "# 특정 요소 접근\n",
    "print(matrix[[1, 2]]) # 2행과 3행"
   ]
  },
  {
   "cell_type": "code",
   "execution_count": 62,
   "id": "e133f87f-9d51-4998-bbfa-2590a98f025f",
   "metadata": {
    "editable": true,
    "slideshow": {
     "slide_type": ""
    },
    "tags": []
   },
   "outputs": [
    {
     "name": "stdout",
     "output_type": "stream",
     "text": [
      "[1 2 3]\n"
     ]
    }
   ],
   "source": [
    "# 특정 행 전체 선택\n",
    "print(matrix[0]) # 1행 전체"
   ]
  },
  {
   "cell_type": "code",
   "execution_count": 63,
   "id": "c4f0bc66-31ba-4308-bd7f-c5e9c9f16728",
   "metadata": {
    "editable": true,
    "slideshow": {
     "slide_type": ""
    },
    "tags": []
   },
   "outputs": [
    {
     "name": "stdout",
     "output_type": "stream",
     "text": [
      "[2 5 8]\n"
     ]
    }
   ],
   "source": [
    "# 특정 열만 선택\n",
    "print(matrix[:, 1]) # 모든 행의 2열"
   ]
  },
  {
   "cell_type": "markdown",
   "id": "493566c3-fb86-4b35-8eb5-abcf5510ba25",
   "metadata": {
    "editable": true,
    "slideshow": {
     "slide_type": "subslide"
    },
    "tags": []
   },
   "source": [
    "### 인덱싱을 활용한 데이터 수정"
   ]
  },
  {
   "cell_type": "code",
   "execution_count": 64,
   "id": "18b907c6-2080-4071-8b8f-2c79285b272c",
   "metadata": {
    "editable": true,
    "slideshow": {
     "slide_type": ""
    },
    "tags": []
   },
   "outputs": [
    {
     "name": "stdout",
     "output_type": "stream",
     "text": [
      "[10 20 99 40]\n",
      "[10 55 77 40]\n"
     ]
    }
   ],
   "source": [
    "array = np.array([10, 20, 30, 40])\n",
    "\n",
    "# 특정 요소 수정\n",
    "array[2] = 99\n",
    "print(array)  # 출력: [10 20 99 40]\n",
    "\n",
    "# 여러 요소 수정\n",
    "array[1:3] = [55, 77]\n",
    "print(array)  # 출력: [10 55 77 40]"
   ]
  },
  {
   "cell_type": "code",
   "execution_count": null,
   "id": "69c4304b-5c15-4a13-9140-29f285ddc829",
   "metadata": {
    "editable": true,
    "slideshow": {
     "slide_type": ""
    },
    "tags": []
   },
   "outputs": [],
   "source": []
  },
  {
   "cell_type": "markdown",
   "id": "541d7e8e-ea19-40cb-96ce-8f0481b90d0b",
   "metadata": {
    "editable": true,
    "slideshow": {
     "slide_type": "slide"
    },
    "tags": []
   },
   "source": [
    "## 연산(Operation)\n",
    "- 연산은 배열의 요소에 대해 수행되는 수학적 또는 논리적 계산\n",
    "- NumPy는 고성능의 벡터화된 연산을 지원하며, 이를 통해 배열의 각 요소에 대해 효과적인 계산을 수행\n",
    "- 연산은 배열 간의 요소별(element-wise) 연산부터, 축(axis)을 따라 수행되는 연산, 브로드캐스팅(broadcasting)과 같은 고급 연산 기법 등 다양"
   ]
  },
  {
   "cell_type": "markdown",
   "id": "3f7fbdf4-7284-4f53-bfef-3fdec1673087",
   "metadata": {
    "editable": true,
    "slideshow": {
     "slide_type": "subslide"
    },
    "tags": []
   },
   "source": [
    "### NumPy 연산의 주요 특징"
   ]
  },
  {
   "cell_type": "markdown",
   "id": "d307f52a-4378-46ec-9c6b-205e3ac96262",
   "metadata": {
    "editable": true,
    "slideshow": {
     "slide_type": ""
    },
    "tags": []
   },
   "source": [
    "| | |\n",
    "|-|-|\n",
    "|특징|\t설명|\n",
    "|벡터화(Vectorization) 지원|\t반복문 없이 배열의 모든 요소에 대해 동시에 연산을 수행하므로 코드가 간결하고 실행 속도가 빠름|\n",
    "|요소별 연산(Element-wise Operation)|\t배열의 각 요소에 대해 동일한 연산이 적용되며, 스칼라 값 또는 다른 배열과의 연산이 가능|\n",
    "|다양한 연산 유형 제공|\t기본적인 사칙연산(+, -, *, /)부터, 삼각함수, 지수/로그 연산, 비교 및 논리 연산 등 다양한 기능을 제공|\n",
    "|브로드캐스팅(Broadcasting)| 크기가 다른 배열 간의 연산을 자동으로 조정하여 크기를 맞춰 연산할 수 있도록 함|\n",
    "|배열 축(axis)| 기반 연산\t특정 차원(행 또는 열)에 대한 합계, 평균 등 집계 연산을 지원|"
   ]
  },
  {
   "cell_type": "markdown",
   "id": "7f55c7e6-7b8b-47a1-b39d-c54c732dc38b",
   "metadata": {
    "editable": true,
    "slideshow": {
     "slide_type": "subslide"
    },
    "tags": []
   },
   "source": [
    "### 요소별 연산 (Element-wise Operations)\n",
    "- NumPy는 배열의 각 요소에 대해 연산을 수행하며, 동일한 크기의 배열에 대해 사칙연산을 수행"
   ]
  },
  {
   "cell_type": "code",
   "execution_count": 65,
   "id": "fffe6e9e-a441-48c8-bdea-2d30b207cb89",
   "metadata": {
    "editable": true,
    "slideshow": {
     "slide_type": ""
    },
    "tags": []
   },
   "outputs": [
    {
     "name": "stdout",
     "output_type": "stream",
     "text": [
      "a + b:  [5 7 9]\n",
      "a - b:  [-3 -3 -3]\n",
      "a * b:  [ 4 10 18]\n",
      "a / b:  [0.25 0.4  0.5 ]\n"
     ]
    }
   ],
   "source": [
    "import numpy as np\n",
    "\n",
    "# 배열 생성\n",
    "a = np.array([1, 2, 3])\n",
    "b = np.array([4, 5, 6])\n",
    "\n",
    "# 덧셈, 뺄셈, 곱셈, 나눗셈 연산\n",
    "print('a + b: ', a + b)\n",
    "print('a - b: ', a - b)\n",
    "print('a * b: ',a * b)\n",
    "print('a / b: ',a / b)"
   ]
  },
  {
   "cell_type": "markdown",
   "id": "43b3ba26-e40d-4b1f-8a74-6682c5407cb8",
   "metadata": {
    "editable": true,
    "slideshow": {
     "slide_type": "subslide"
    },
    "tags": []
   },
   "source": [
    "### 비교 연산 (Comparison Operations)\n",
    "- 비교 연산은 배열의 각 요소를 조건과 비교하여 True/False 값을 반환하는 연산\n",
    "- 특정 조건을 만족하는 데이터를 쉽게 판별\n",
    "- 반환된 불리언 배열을 활용해 조건에 맞는 데이터만 선택"
   ]
  },
  {
   "cell_type": "code",
   "execution_count": 66,
   "id": "143228c9-565c-4977-98dd-455d35401c94",
   "metadata": {
    "editable": true,
    "slideshow": {
     "slide_type": ""
    },
    "tags": []
   },
   "outputs": [
    {
     "name": "stdout",
     "output_type": "stream",
     "text": [
      "a > 2: [False False  True]\n",
      "a == b: [False False False]\n",
      "a <= 2: [ True  True False]\n"
     ]
    }
   ],
   "source": [
    "import numpy as np\n",
    "\n",
    "a = np.array([1, 2, 3])\n",
    "b = np.array([4, 5, 6])\n",
    "\n",
    "# 각 요소가 2보다 큰지 확인\n",
    "print(\"a > 2:\", a > 2)\n",
    "\n",
    "# a와 b의 같은 위치 요소가 같은지 비교\n",
    "print(\"a == b:\", a == b)\n",
    "\n",
    "# 각 요소가 2보다 작거나 같은지 확인\n",
    "print(\"a <= 2:\", a <= 2)"
   ]
  },
  {
   "cell_type": "markdown",
   "id": "46b409f6-e0b6-4856-a15b-9637b5e9a074",
   "metadata": {
    "editable": true,
    "slideshow": {
     "slide_type": "subslide"
    },
    "tags": []
   },
   "source": [
    "### 통계 연산 (Statistical Operations)"
   ]
  },
  {
   "cell_type": "code",
   "execution_count": 67,
   "id": "d78dd4a0-6b95-4459-a4f9-1129a2c83b1a",
   "metadata": {
    "editable": true,
    "slideshow": {
     "slide_type": ""
    },
    "tags": []
   },
   "outputs": [
    {
     "name": "stdout",
     "output_type": "stream",
     "text": [
      "np.mean(data): 30.0\n",
      "np.median(data): 30.0\n",
      "np.max(data): 50\n",
      "np.min(data): 10\n",
      "np.std(data): 14.142135623730951\n"
     ]
    }
   ],
   "source": [
    "import numpy as np\n",
    "\n",
    "data = np.array([10, 20, 30, 40, 50])\n",
    "\n",
    "# np.mean(): 평균\n",
    "print(\"np.mean(data):\", np.mean(data))\n",
    "\n",
    "# np.median(): 중앙값\n",
    "print(\"np.median(data):\", np.median(data))\n",
    "\n",
    "# np.max(): 최댓값\n",
    "print(\"np.max(data):\", np.max(data))\n",
    "\n",
    "# np.min(): 최솟값\n",
    "print(\"np.min(data):\", np.min(data))\n",
    "\n",
    "# np.std(): 표준편차\n",
    "print(\"np.std(data):\", np.std(data))"
   ]
  },
  {
   "cell_type": "markdown",
   "id": "daa97eb6-0c01-4f47-9d65-dc323953a730",
   "metadata": {
    "editable": true,
    "slideshow": {
     "slide_type": "subslide"
    },
    "tags": []
   },
   "source": [
    "### 선형대수 연산 (Linear Algebra Operations)\n",
    "- 연산 속도: 반복문 없이 C 기반으로 구현된 함수를 사용해, 대규모 데이터의 선형대수 연산을 빠르게 처리\n",
    "- 수학적 활용성: 전치, 내적, 역행렬 같은 연산은 회귀분석, 신호 처리, 머신러닝 알고리즘 등에서 핵심적으로 사용\n",
    "- 코드 가독성: 수학적 기호를 그대로 옮긴 듯한 함수 이름을 사용해, 복잡한 연산을 짧고 명확하게 표현"
   ]
  },
  {
   "cell_type": "code",
   "execution_count": 68,
   "id": "97ff3577-2a1d-4d32-8550-fda4a12914bc",
   "metadata": {
    "editable": true,
    "slideshow": {
     "slide_type": ""
    },
    "tags": []
   },
   "outputs": [
    {
     "data": {
      "text/plain": [
       "array([[1, 2],\n",
       "       [3, 4]])"
      ]
     },
     "execution_count": 68,
     "metadata": {},
     "output_type": "execute_result"
    }
   ],
   "source": [
    "matrix = np.array([[1, 2], [3, 4]])    \n",
    "matrix"
   ]
  },
  {
   "cell_type": "code",
   "execution_count": 69,
   "id": "197ea776-3147-4b11-80d9-863b69becd58",
   "metadata": {
    "editable": true,
    "slideshow": {
     "slide_type": ""
    },
    "tags": []
   },
   "outputs": [
    {
     "name": "stdout",
     "output_type": "stream",
     "text": [
      "np.transpose(matrix): \n",
      " [[1 3]\n",
      " [2 4]]\n",
      "np.dot(matrix, vector):  [ 8 18]\n",
      "np.linalg.inv(matrix): \n",
      " [[-2.   1. ]\n",
      " [ 1.5 -0.5]]\n"
     ]
    }
   ],
   "source": [
    "# 전치 행렬\n",
    "print('np.transpose(matrix): \\n', np.transpose(matrix))\n",
    "\n",
    "# 행렬 곱 (내적)\n",
    "vector = np.array([2, 3])\n",
    "print('np.dot(matrix, vector): ',np.dot(matrix, vector))\n",
    "\n",
    "# 역행렬 계산\n",
    "inverse = np.linalg.inv(matrix)\n",
    "print('np.linalg.inv(matrix): \\n', inverse)"
   ]
  },
  {
   "cell_type": "code",
   "execution_count": 70,
   "id": "453e0a3e-d5dd-46e8-974e-5e4f914fce64",
   "metadata": {
    "editable": true,
    "slideshow": {
     "slide_type": ""
    },
    "tags": []
   },
   "outputs": [
    {
     "data": {
      "text/plain": [
       "array([[1.0000000e+00, 0.0000000e+00],\n",
       "       [8.8817842e-16, 1.0000000e+00]])"
      ]
     },
     "execution_count": 70,
     "metadata": {},
     "output_type": "execute_result"
    }
   ],
   "source": [
    "matrix@inverse"
   ]
  },
  {
   "cell_type": "code",
   "execution_count": 71,
   "id": "0155f393-4638-46fc-a223-396083fbd97c",
   "metadata": {
    "editable": true,
    "slideshow": {
     "slide_type": ""
    },
    "tags": []
   },
   "outputs": [
    {
     "data": {
      "text/plain": [
       "array([[1.0000000e+00, 0.0000000e+00],\n",
       "       [8.8817842e-16, 1.0000000e+00]])"
      ]
     },
     "execution_count": 71,
     "metadata": {},
     "output_type": "execute_result"
    }
   ],
   "source": [
    "np.dot(matrix, inverse)"
   ]
  },
  {
   "cell_type": "code",
   "execution_count": 72,
   "id": "1d9070b8-2963-4a53-b992-ca544c723f06",
   "metadata": {
    "editable": true,
    "slideshow": {
     "slide_type": ""
    },
    "tags": []
   },
   "outputs": [
    {
     "data": {
      "text/plain": [
       "array([[13]])"
      ]
     },
     "execution_count": 72,
     "metadata": {},
     "output_type": "execute_result"
    }
   ],
   "source": [
    "np.dot([[2,3]], [[2],[3]])"
   ]
  },
  {
   "cell_type": "markdown",
   "id": "b64b325a-5ecf-4220-b913-5fed50b8a8c4",
   "metadata": {
    "editable": true,
    "slideshow": {
     "slide_type": "subslide"
    },
    "tags": []
   },
   "source": [
    "Q: 전치(Transpose)란 무엇인가요?\n",
    "> 전치는 행과 열을 서로 바꾸는 연산으로, 행렬의 (i, j) 원소가 (j, i) 위치로 이동합니다."
   ]
  },
  {
   "cell_type": "code",
   "execution_count": 73,
   "id": "e2ae980d-bc91-49aa-95f1-691af17a32ae",
   "metadata": {
    "editable": true,
    "slideshow": {
     "slide_type": ""
    },
    "tags": []
   },
   "outputs": [
    {
     "data": {
      "text/plain": [
       "array([[1, 2],\n",
       "       [3, 4]])"
      ]
     },
     "execution_count": 73,
     "metadata": {},
     "output_type": "execute_result"
    }
   ],
   "source": [
    "import numpy as np\n",
    "matrix = np.array([[1, 2], [3, 4]])\n",
    "matrix"
   ]
  },
  {
   "cell_type": "code",
   "execution_count": 74,
   "id": "caff6b25-cf5e-4f13-a796-c02518a71234",
   "metadata": {
    "editable": true,
    "slideshow": {
     "slide_type": ""
    },
    "tags": []
   },
   "outputs": [
    {
     "name": "stdout",
     "output_type": "stream",
     "text": [
      "np.transpose(matrix):\n",
      " [[1 3]\n",
      " [2 4]]\n"
     ]
    }
   ],
   "source": [
    "# np.transpose(): 행과 열을 바꾸는 함수\n",
    "print(\"np.transpose(matrix):\\n\", np.transpose(matrix))"
   ]
  },
  {
   "cell_type": "markdown",
   "id": "9e4945fb-902f-4638-8e54-eebbf1244915",
   "metadata": {
    "editable": true,
    "slideshow": {
     "slide_type": "subslide"
    },
    "tags": []
   },
   "source": [
    "Q: 내적(Dot Product)이란 무엇인가요?\n",
    "> 내적은 행렬과 행렬, 또는 행렬과 벡터를 곱하는 연산입니다."
   ]
  },
  {
   "cell_type": "code",
   "execution_count": 75,
   "id": "d996d8e1-80ea-4918-bade-b7bc8c0e6576",
   "metadata": {
    "editable": true,
    "slideshow": {
     "slide_type": ""
    },
    "tags": []
   },
   "outputs": [],
   "source": [
    "matrix = np.array([[1, 2], [3, 4]])\n",
    "vector = np.array([2, 3])"
   ]
  },
  {
   "cell_type": "code",
   "execution_count": 76,
   "id": "a50a58fa-6f72-4d65-9042-c03adf7f2516",
   "metadata": {
    "editable": true,
    "slideshow": {
     "slide_type": ""
    },
    "tags": []
   },
   "outputs": [
    {
     "data": {
      "text/plain": [
       "array([[1, 2],\n",
       "       [3, 4]])"
      ]
     },
     "execution_count": 76,
     "metadata": {},
     "output_type": "execute_result"
    }
   ],
   "source": [
    "matrix"
   ]
  },
  {
   "cell_type": "code",
   "execution_count": 77,
   "id": "8865da8a-35aa-45ab-96e8-db81f211d947",
   "metadata": {
    "editable": true,
    "slideshow": {
     "slide_type": ""
    },
    "tags": []
   },
   "outputs": [
    {
     "data": {
      "text/plain": [
       "(2, 2)"
      ]
     },
     "execution_count": 77,
     "metadata": {},
     "output_type": "execute_result"
    }
   ],
   "source": [
    "matrix.shape"
   ]
  },
  {
   "cell_type": "code",
   "execution_count": 78,
   "id": "7e8eaef6-e20b-4e2b-90d1-7255424b5d1a",
   "metadata": {
    "editable": true,
    "slideshow": {
     "slide_type": ""
    },
    "tags": []
   },
   "outputs": [
    {
     "data": {
      "text/plain": [
       "array([2, 3])"
      ]
     },
     "execution_count": 78,
     "metadata": {},
     "output_type": "execute_result"
    }
   ],
   "source": [
    "vector"
   ]
  },
  {
   "cell_type": "code",
   "execution_count": 79,
   "id": "03c1adae-25e9-4db5-a9dd-7acf2ff640fe",
   "metadata": {
    "editable": true,
    "slideshow": {
     "slide_type": ""
    },
    "tags": []
   },
   "outputs": [
    {
     "data": {
      "text/plain": [
       "(2,)"
      ]
     },
     "execution_count": 79,
     "metadata": {},
     "output_type": "execute_result"
    }
   ],
   "source": [
    "vector.shape"
   ]
  },
  {
   "cell_type": "code",
   "execution_count": 80,
   "id": "07ea3bad-094e-4531-b044-9ffa1c497ae3",
   "metadata": {
    "editable": true,
    "slideshow": {
     "slide_type": ""
    },
    "tags": []
   },
   "outputs": [
    {
     "name": "stdout",
     "output_type": "stream",
     "text": [
      "np.dot(matrix, vector):\n",
      " [ 8 18]\n"
     ]
    }
   ],
   "source": [
    "# np.dot(): 행렬 곱 또는 벡터 내적을 계산하는 함수\n",
    "\n",
    "print(\"np.dot(matrix, vector):\\n\", np.dot(matrix, vector))\n",
    "# NumPy는 자동 브로드캐스트 없이 1차원 벡터를 적절히 2차원과 곱하도록 처리"
   ]
  },
  {
   "cell_type": "markdown",
   "id": "09765458-22e9-4b12-8786-39c3ad686bbe",
   "metadata": {
    "editable": true,
    "slideshow": {
     "slide_type": "subslide"
    },
    "tags": []
   },
   "source": [
    "Q: 역행렬(Inverse Matrix)이란 무엇인가요?\n",
    "> 역행렬은 행렬과 곱했을 때 단위행렬(Identity Matrix)이 되는 행렬을 의미합니다. "
   ]
  },
  {
   "cell_type": "code",
   "execution_count": 81,
   "id": "2d33569e-d8b9-41d8-aa78-3c9a108e85ff",
   "metadata": {
    "editable": true,
    "slideshow": {
     "slide_type": ""
    },
    "tags": []
   },
   "outputs": [
    {
     "name": "stdout",
     "output_type": "stream",
     "text": [
      "np.linalg.inv(matrix):\n",
      " [[-2.   1. ]\n",
      " [ 1.5 -0.5]]\n"
     ]
    }
   ],
   "source": [
    "matrix = np.array([[1, 2], [3, 4]])\n",
    "\n",
    "# np.linalg.inv(): 행렬의 역행렬을 계산하는 함수\n",
    "inverse = np.linalg.inv(matrix)\n",
    "print(\"np.linalg.inv(matrix):\\n\", inverse)"
   ]
  },
  {
   "cell_type": "code",
   "execution_count": 82,
   "id": "f0da0180-d81f-4b4a-bd01-7aafc02e7212",
   "metadata": {
    "editable": true,
    "slideshow": {
     "slide_type": ""
    },
    "tags": []
   },
   "outputs": [
    {
     "data": {
      "text/plain": [
       "1.0"
      ]
     },
     "execution_count": 82,
     "metadata": {},
     "output_type": "execute_result"
    }
   ],
   "source": [
    "5 * (1/5)"
   ]
  },
  {
   "cell_type": "markdown",
   "id": "e2ffbaf2-6097-42d5-866c-97665880d90e",
   "metadata": {
    "editable": true,
    "slideshow": {
     "slide_type": "subslide"
    },
    "tags": []
   },
   "source": [
    "Q: 역행렬에서 말하는 단위행렬(Identity Matrix)이란 무엇인가요?\n",
    "> 단위행렬은 대각선의 원소는 모두 1이고, 나머지 원소는 모두 0인 정사각 행렬을 말합니다. 행렬 곱셈에서 단위행렬은 일반 수에서의 1과 같은 역할을 합니다. 즉, 어떤 행렬 A가 있을 때 A × I = A가 성립합니다."
   ]
  },
  {
   "cell_type": "code",
   "execution_count": 83,
   "id": "369b8afe-8641-4c9d-a9e3-763571a16262",
   "metadata": {
    "editable": true,
    "slideshow": {
     "slide_type": ""
    },
    "tags": []
   },
   "outputs": [
    {
     "name": "stdout",
     "output_type": "stream",
     "text": [
      "np.identity(2):\n",
      " [[1. 0.]\n",
      " [0. 1.]]\n"
     ]
    }
   ],
   "source": [
    "import numpy as np\n",
    "\n",
    "# 2x2 단위행렬 생성\n",
    "I = np.identity(2)\n",
    "print(\"np.identity(2):\\n\", I)"
   ]
  },
  {
   "cell_type": "code",
   "execution_count": 84,
   "id": "110e8330-95e6-4b0b-a1d7-d2938a6dc8db",
   "metadata": {
    "editable": true,
    "slideshow": {
     "slide_type": ""
    },
    "tags": []
   },
   "outputs": [
    {
     "name": "stdout",
     "output_type": "stream",
     "text": [
      "A × I:\n",
      " [[1. 2.]\n",
      " [3. 4.]]\n"
     ]
    }
   ],
   "source": [
    "# 행렬과 단위행렬의 곱\n",
    "A = np.array([[1, 2], [3, 4]])\n",
    "print(\"A × I:\\n\", np.dot(A, I))"
   ]
  },
  {
   "cell_type": "markdown",
   "id": "50f30e35-7446-4f47-adce-3680118730ea",
   "metadata": {
    "editable": true,
    "slideshow": {
     "slide_type": ""
    },
    "tags": []
   },
   "source": [
    "- np.identity(n)은 n×n 크기의 단위행렬을 생성합니다.\n",
    "- 단위행렬은 행렬 곱에서 “곱셈에 대한 항등원” 역할을 하며, 역행렬 정의에서도 기준이 됩니다.\n",
    "- 즉, 역행렬 A⁻¹은 원래 행렬 A와 곱했을 때 단위행렬이 나오는 행렬입니다."
   ]
  },
  {
   "cell_type": "markdown",
   "id": "992f22c4-fe78-44c0-8622-0d11b3c028b3",
   "metadata": {
    "editable": true,
    "slideshow": {
     "slide_type": "subslide"
    },
    "tags": []
   },
   "source": [
    "Q: 항등원(Identity Element)이란 무엇인가요?\n",
    "> 항등원은 연산을 했을 때 원래 값이 변하지 않도록 해주는 특별한 원소를 말합니다.\n",
    "> - 덧셈에서의 항등원은 0입니다.\n",
    "> - 예: a + 0 = a\n",
    "> - 곱셈에서의 항등원은 1입니다.\n",
    "> - 예: a × 1 = a\n",
    "> - 행렬 곱셈에서의 항등원은 단위행렬(Identity Matrix)입니다.\n",
    "> - 예: A × I = A\n",
    ">   \n",
    "> 즉, 항등원은 어떤 구조에서 “연산을 해도 자기 자신을 그대로 유지시켜주는 원소”입니다."
   ]
  },
  {
   "cell_type": "markdown",
   "id": "f50ffc96-6383-437d-9995-b658529ebd38",
   "metadata": {
    "editable": true,
    "slideshow": {
     "slide_type": "subslide"
    },
    "tags": []
   },
   "source": [
    "### 브로드캐스팅(Broadcasting)을 활용한 연산\n",
    "- 브로드캐스팅은 서로 크기가 다른 배열 간의 연산을 자동으로 맞춰 수행할 수 있도록 작은 배열을 확장하는 규칙\n",
    "- https://numpy.org/doc/stable/user/basics.broadcasting.html#"
   ]
  },
  {
   "cell_type": "code",
   "execution_count": 85,
   "id": "4ab437f5-fae5-4ff1-a0ba-b698421b6c8d",
   "metadata": {
    "editable": true,
    "slideshow": {
     "slide_type": ""
    },
    "tags": []
   },
   "outputs": [],
   "source": [
    "matrix = np.array([[1, 2, 3], [4, 5, 6]])\n",
    "vector = np.array([1, 2, 3])"
   ]
  },
  {
   "cell_type": "code",
   "execution_count": 86,
   "id": "f4b59df8-054d-4c15-80d9-3503735cac9e",
   "metadata": {
    "editable": true,
    "slideshow": {
     "slide_type": ""
    },
    "tags": []
   },
   "outputs": [
    {
     "data": {
      "text/plain": [
       "array([[1, 2, 3],\n",
       "       [4, 5, 6]])"
      ]
     },
     "execution_count": 86,
     "metadata": {},
     "output_type": "execute_result"
    }
   ],
   "source": [
    "matrix"
   ]
  },
  {
   "cell_type": "code",
   "execution_count": 87,
   "id": "d2d7fb10-4bd7-406b-b1d3-7a9aeb95648e",
   "metadata": {
    "editable": true,
    "slideshow": {
     "slide_type": ""
    },
    "tags": []
   },
   "outputs": [
    {
     "data": {
      "text/plain": [
       "array([1, 2, 3])"
      ]
     },
     "execution_count": 87,
     "metadata": {},
     "output_type": "execute_result"
    }
   ],
   "source": [
    "vector"
   ]
  },
  {
   "cell_type": "code",
   "execution_count": 88,
   "id": "d2949a01-c461-4168-8932-fe7710ed3141",
   "metadata": {
    "editable": true,
    "slideshow": {
     "slide_type": ""
    },
    "tags": []
   },
   "outputs": [
    {
     "name": "stdout",
     "output_type": "stream",
     "text": [
      "matrix + vector:\n",
      " [[2 4 6]\n",
      " [5 7 9]]\n"
     ]
    }
   ],
   "source": [
    "result = matrix + vector\n",
    "print(\"matrix + vector:\\n\", result)"
   ]
  },
  {
   "cell_type": "markdown",
   "id": "b528d448-4e02-4249-86a0-344d907f4821",
   "metadata": {
    "editable": true,
    "slideshow": {
     "slide_type": "subslide"
    },
    "tags": []
   },
   "source": [
    "### 논리 연산 (Logical Operations)\n",
    "- 논리 연산은 불리언(Boolean) 배열을 대상으로 조건을 결합하거나 판별하는 연산\n",
    "- 여러 조건을 동시에 적용해 데이터를 필터링\n",
    "- 조건식을 간결하게 표현할 수 있어 가독성 높음"
   ]
  },
  {
   "cell_type": "code",
   "execution_count": 89,
   "id": "9cdf083c-2f18-48df-adb8-228f15dfe13e",
   "metadata": {
    "editable": true,
    "slideshow": {
     "slide_type": ""
    },
    "tags": []
   },
   "outputs": [],
   "source": [
    "data = np.array([10, 20, 30, 40, 50])"
   ]
  },
  {
   "cell_type": "code",
   "execution_count": 90,
   "id": "26b848ee-3880-4ea4-b330-71ecfdf927c6",
   "metadata": {
    "editable": true,
    "slideshow": {
     "slide_type": ""
    },
    "tags": []
   },
   "outputs": [
    {
     "name": "stdout",
     "output_type": "stream",
     "text": [
      "np.logical_and(data > 15, data < 45):\n",
      " [False  True  True  True False]\n"
     ]
    }
   ],
   "source": [
    "# np.logical_and(): 두 조건이 모두 참일 때 True\n",
    "print(\"np.logical_and(data > 15, data < 45):\\n\", \\\n",
    "      np.logical_and(data > 15, data < 45))"
   ]
  },
  {
   "cell_type": "code",
   "execution_count": 91,
   "id": "c0db9e32-9867-4d4e-99ef-0cf3c633b86d",
   "metadata": {
    "editable": true,
    "slideshow": {
     "slide_type": ""
    },
    "tags": []
   },
   "outputs": [
    {
     "name": "stdout",
     "output_type": "stream",
     "text": [
      "np.logical_or(data < 15, data > 45):\n",
      " [ True False False False  True]\n"
     ]
    }
   ],
   "source": [
    "# np.logical_or(): 하나 이상의 조건이 참일 때 True\n",
    "print(\"np.logical_or(data < 15, data > 45):\\n\", \\\n",
    "      np.logical_or(data < 15, data > 45))"
   ]
  },
  {
   "cell_type": "code",
   "execution_count": null,
   "id": "4eab6b1c-23de-445f-8287-1b149352528c",
   "metadata": {
    "editable": true,
    "slideshow": {
     "slide_type": ""
    },
    "tags": []
   },
   "outputs": [],
   "source": []
  },
  {
   "cell_type": "markdown",
   "id": "ce826859-0399-45d0-851d-d4be2babcbce",
   "metadata": {
    "editable": true,
    "slideshow": {
     "slide_type": "slide"
    },
    "tags": []
   },
   "source": [
    "## 유니버설 함수(Universal Function)\n",
    "- NumPy에서 유니버설 함수(Universal Functions, UFuncs)는 배열의 각 요소에 대해 반복적으로 수행되는 벡터화된 연산을 제공하는 함수\n",
    "- 유니버설 함수는 단일 입력(single input) 및 다중 입력(multiple input)을 지원하며, 요소별(element-wise)로 동작하여 효과적인 수학 및 논리 연산을 수행"
   ]
  },
  {
   "cell_type": "markdown",
   "id": "73c97663-d553-476b-8816-2294e2447974",
   "metadata": {
    "editable": true,
    "slideshow": {
     "slide_type": "subslide"
    },
    "tags": []
   },
   "source": [
    "### NumPy 유니버설 함수의 주요 특징"
   ]
  },
  {
   "cell_type": "markdown",
   "id": "5dcd7e54-4c5f-4784-b5f3-0fc9a9769db1",
   "metadata": {
    "editable": true,
    "slideshow": {
     "slide_type": ""
    },
    "tags": []
   },
   "source": [
    "|||\n",
    "|-|-|\n",
    "|특징| 설명|\t\n",
    "|다양한 함수 제공|\t수학 함수(삼각함수, 지수, 로그), 논리 함수, 비교 함수 등 여러 가지 기본 및 고급 연산을 포함|\n",
    "|다중 입력 및 출력 지원|\t하나의 유니버설 함수는 여러 개의 입력 배열을 받아 연산을 수행하고, 하나 이상의 출력을 반환|\n",
    "|유형 캐스팅(Type Casting) 지원|\t서로 다른 데이터 유형 간 연산을 지원하며, 필요에 따라 자동 형변환을 수행|\n",
    "|배열 브로드캐스팅 지원|크기가 다른 배열 간의 연산을 가능하게 하여 유연한 연산 처리가 가능|"
   ]
  },
  {
   "cell_type": "markdown",
   "id": "af1ed48e-05db-4c73-8343-10646dece210",
   "metadata": {
    "editable": true,
    "slideshow": {
     "slide_type": "subslide"
    },
    "tags": []
   },
   "source": [
    "### 사용이유"
   ]
  },
  {
   "cell_type": "markdown",
   "id": "aac31273-434b-441e-9f56-6bc43db9a9c0",
   "metadata": {
    "editable": true,
    "slideshow": {
     "slide_type": ""
    },
    "tags": []
   },
   "source": [
    "| | |\n",
    "|-|-|\n",
    "|이유|\t설명|\n",
    "|고속 연산 수행|\t유니버설 함수는 C 기반으로 구현되어 있어 파이썬의 기본 반복문보다 훨씬 빠르게 연산을 수행. 수천만 개의 데이터도 빠르고 정확하게 처리|\n",
    "|벡터화로 인한 코드 간결화|\t반복문을 사용하지 않고 배열의 각 요소에 대해 연산을 적용할 수 있어 코드가 간결하고 가독성이 향상|\n",
    "|다양한 수학적 기능 제공|\t사칙연산, 삼각함수, 지수, 로그 연산 등 다양한 수학적 및 논리적 연산을 한 번에 수행할 수 있어 복잡한 계산을 간단하게 해결|\n",
    "|메모리 효율성|\t브로드캐스팅 기능을 통해 크기가 다른 배열 간 연산을 자동으로 조정하여 메모리를 절약하고 성능을 최적화|\n",
    "|데이터 분석 및 과학적 계산 최적화|\t대량의 데이터를 분석할 때, 벡터 연산을 통해 빠른 통계 분석 및 수치 계산이 가능하므로 실시간 분석에 적합|"
   ]
  },
  {
   "cell_type": "markdown",
   "id": "3b9effb7-0ab4-4118-8efd-bfa44deed4ed",
   "metadata": {
    "editable": true,
    "slideshow": {
     "slide_type": "subslide"
    },
    "tags": []
   },
   "source": [
    "### 사용 방법\n",
    "- NumPy 유니버설 함수는 다음 형식으로 사용"
   ]
  },
  {
   "cell_type": "markdown",
   "id": "1f51a02c-bb23-4098-a82c-c9f25223e31f",
   "metadata": {
    "editable": true,
    "raw_mimetype": "",
    "slideshow": {
     "slide_type": ""
    },
    "tags": []
   },
   "source": [
    "```\n",
    "import numpy as np\n",
    "\n",
    "# 기본 문법: np.함수명(입력 배열)\n",
    "result = np.function_name(array)\n",
    "\n",
    "# 다중 입력 및 출력 지원\n",
    "result = np.function_name(array1, array2, out=output_array)\n",
    "```\n",
    "\n",
    "- `np.function_name(array)`: 배열의 각 요소에 대해 해당 연산을 수행\n",
    "- `out` 매개변수를 사용하면 결과를 새로운 배열이 아닌 기존 배열에 저장 가능"
   ]
  },
  {
   "cell_type": "markdown",
   "id": "7b87d7a6-26df-4fb1-aade-4ebc4fc99c13",
   "metadata": {
    "editable": true,
    "slideshow": {
     "slide_type": ""
    },
    "tags": []
   },
   "source": [
    "### 산술 연산 (Arithmetic Operations)"
   ]
  },
  {
   "cell_type": "code",
   "execution_count": 92,
   "id": "cb259ef1-b51e-4a12-8915-81d68302ecb0",
   "metadata": {
    "editable": true,
    "slideshow": {
     "slide_type": ""
    },
    "tags": []
   },
   "outputs": [
    {
     "name": "stdout",
     "output_type": "stream",
     "text": [
      "np.add(a, b): [5 7 9]\n",
      "np.subtract(a, b): [-3 -3 -3]\n",
      "np.multiply(a, b): [ 4 10 18]\n",
      "np.divide(a, b): [0.25 0.4  0.5 ]\n",
      "np.power(a, 2): [1 4 9]\n"
     ]
    }
   ],
   "source": [
    "a = np.array([1, 2, 3])\n",
    "b = np.array([4, 5, 6])\n",
    "\n",
    "# np.add(): 요소별 덧셈\n",
    "print(\"np.add(a, b):\", np.add(a, b))\n",
    "\n",
    "# np.subtract(): 요소별 뺄셈\n",
    "print(\"np.subtract(a, b):\", np.subtract(a, b))\n",
    "\n",
    "# np.multiply(): 요소별 곱셈\n",
    "print(\"np.multiply(a, b):\", np.multiply(a, b))\n",
    "\n",
    "# np.divide(): 요소별 나눗셈\n",
    "print(\"np.divide(a, b):\", np.divide(a, b))\n",
    "\n",
    "# np.power(): 거듭제곱 연산\n",
    "print(\"np.power(a, 2):\", np.power(a, 2))"
   ]
  },
  {
   "cell_type": "markdown",
   "id": "40c15e2d-1379-4df9-a590-c45f20fb621c",
   "metadata": {
    "editable": true,
    "slideshow": {
     "slide_type": "subslide"
    },
    "tags": []
   },
   "source": [
    "### 비교 연산 (Comparison Operations)"
   ]
  },
  {
   "cell_type": "code",
   "execution_count": 93,
   "id": "ad69d445-bc19-4945-a3bd-1da95f5a3560",
   "metadata": {
    "editable": true,
    "slideshow": {
     "slide_type": ""
    },
    "tags": []
   },
   "outputs": [
    {
     "name": "stdout",
     "output_type": "stream",
     "text": [
      "np.equal(a, b): [False  True False False]\n",
      "np.greater(a, b): [False False  True  True]\n",
      "np.less(a, b): [ True False False False]\n"
     ]
    }
   ],
   "source": [
    "a = np.array([1, 2, 3, 4])\n",
    "b = np.array([2, 2, 2, 2])\n",
    "\n",
    "# np.equal(): 각 요소가 같은지 비교\n",
    "print(\"np.equal(a, b):\", np.equal(a, b))\n",
    "\n",
    "# np.greater(): a의 요소가 b보다 큰지 비교\n",
    "print(\"np.greater(a, b):\", np.greater(a, b))\n",
    "\n",
    "# np.less(): a의 요소가 b보다 작은지 비교\n",
    "print(\"np.less(a, b):\", np.less(a, b))"
   ]
  },
  {
   "cell_type": "markdown",
   "id": "604634dc-bab8-412a-a3a0-64315fcc359f",
   "metadata": {
    "editable": true,
    "slideshow": {
     "slide_type": "subslide"
    },
    "tags": []
   },
   "source": [
    "### 논리 연산 (Logical Operations)"
   ]
  },
  {
   "cell_type": "code",
   "execution_count": 94,
   "id": "429ea763-ff34-498e-b7ad-23c1644bcc83",
   "metadata": {
    "editable": true,
    "slideshow": {
     "slide_type": ""
    },
    "tags": []
   },
   "outputs": [
    {
     "name": "stdout",
     "output_type": "stream",
     "text": [
      "np.logical_and(data > 15, data < 35): [False  True  True False]\n",
      "np.logical_or(data < 15, data > 35): [ True False False  True]\n",
      "np.logical_not(data > 20): [ True  True False False]\n"
     ]
    }
   ],
   "source": [
    "data = np.array([10, 20, 30, 40])\n",
    "\n",
    "# np.logical_and(): 두 조건이 모두 참일 때 True\n",
    "print(\"np.logical_and(data > 15, data < 35):\", np.logical_and(data > 15, data < 35))\n",
    "\n",
    "# np.logical_or(): 두 조건 중 하나라도 참일 때 True\n",
    "print(\"np.logical_or(data < 15, data > 35):\", np.logical_or(data < 15, data > 35))\n",
    "\n",
    "# np.logical_not(): 조건이 거짓일 때 True\n",
    "print(\"np.logical_not(data > 20):\", np.logical_not(data > 20))"
   ]
  },
  {
   "cell_type": "markdown",
   "id": "59d1383e-b2ff-4350-b7d4-3c31101315ee",
   "metadata": {
    "editable": true,
    "slideshow": {
     "slide_type": "subslide"
    },
    "tags": []
   },
   "source": [
    "### 삼각 함수 (Trigonometric Functions)"
   ]
  },
  {
   "cell_type": "code",
   "execution_count": 95,
   "id": "86c3d791-a619-4c98-9ace-de0267daf32f",
   "metadata": {
    "editable": true,
    "slideshow": {
     "slide_type": ""
    },
    "tags": []
   },
   "outputs": [
    {
     "name": "stdout",
     "output_type": "stream",
     "text": [
      "np.sin(angles): [0.0000000e+00 1.0000000e+00 1.2246468e-16]\n",
      "np.cos(angles): [ 1.000000e+00  6.123234e-17 -1.000000e+00]\n",
      "np.tan(angles): [ 0.00000000e+00  1.63312394e+16 -1.22464680e-16]\n"
     ]
    }
   ],
   "source": [
    "angles = np.array([0, np.pi/2, np.pi])\n",
    "\n",
    "# np.sin(): 사인 값 계산\n",
    "print(\"np.sin(angles):\", np.sin(angles))\n",
    "\n",
    "# np.cos(): 코사인 값 계산\n",
    "print(\"np.cos(angles):\", np.cos(angles))\n",
    "\n",
    "# np.tan(): 탄젠트 값 계산\n",
    "print(\"np.tan(angles):\", np.tan(angles))"
   ]
  },
  {
   "cell_type": "markdown",
   "id": "6e8fd31c-b298-47cf-b0a1-eaf9bda8a545",
   "metadata": {
    "editable": true,
    "slideshow": {
     "slide_type": "subslide"
    },
    "tags": []
   },
   "source": [
    "### 지수 및 로그 연산 (Exponential and Logarithmic Functions)"
   ]
  },
  {
   "cell_type": "code",
   "execution_count": 96,
   "id": "a6d31e31-0b4e-4516-bf10-e1793c05e02a",
   "metadata": {
    "editable": true,
    "slideshow": {
     "slide_type": ""
    },
    "tags": []
   },
   "outputs": [
    {
     "name": "stdout",
     "output_type": "stream",
     "text": [
      "np.exp(values): [2.71828183e+00 1.51542622e+01 2.20264658e+04]\n",
      "np.log(values): [0.         1.         2.30258509]\n",
      "np.log10(values): [0.         0.43429448 1.        ]\n"
     ]
    }
   ],
   "source": [
    "values = np.array([1, np.e, 10])\n",
    "\n",
    "# np.exp(): 지수 함수(e^x) 계산\n",
    "print(\"np.exp(values):\", np.exp(values))\n",
    "\n",
    "# np.log(): 자연로그(밑 e) 계산\n",
    "print(\"np.log(values):\", np.log(values))\n",
    "\n",
    "# np.log10(): 상용로그(밑 10) 계산\n",
    "print(\"np.log10(values):\", np.log10(values))"
   ]
  },
  {
   "cell_type": "markdown",
   "id": "279d48c2-ab04-4ab7-a636-0def7e1ac93c",
   "metadata": {
    "editable": true,
    "slideshow": {
     "slide_type": "subslide"
    },
    "tags": []
   },
   "source": [
    "### 브로드캐스팅과 유니버설 함수\n",
    "- 브로드캐스팅은 **크기가 서로 다른 배열 간 연산 시, 작은 배열을 자동으로 확장하여 연산을 가능하게 하는 규칙**\n",
    "- 유니버설 함수는 이 브로드캐스팅 기능을 지원하여, 반복문 없이도 직관적으로 연산을 수행"
   ]
  },
  {
   "cell_type": "code",
   "execution_count": 97,
   "id": "2dfaffd8-d312-4298-a82d-327a839fa30a",
   "metadata": {
    "editable": true,
    "slideshow": {
     "slide_type": ""
    },
    "tags": []
   },
   "outputs": [
    {
     "name": "stdout",
     "output_type": "stream",
     "text": [
      "np.add(array, scalar): [11 12 13]\n"
     ]
    }
   ],
   "source": [
    "array = np.array([1, 2, 3])\n",
    "scalar = 10\n",
    "\n",
    "# np.add(): 배열과 스칼라 간 덧셈, 브로드캐스팅 적용\n",
    "print(\"np.add(array, scalar):\", np.add(array, scalar))"
   ]
  },
  {
   "cell_type": "markdown",
   "id": "1774d9e2-5e38-4200-97a1-fc320582815e",
   "metadata": {
    "editable": true,
    "slideshow": {
     "slide_type": "subslide"
    },
    "tags": []
   },
   "source": [
    "### `out` 매개변수를 사용한 연산 결과 저장"
   ]
  },
  {
   "cell_type": "code",
   "execution_count": 98,
   "id": "9c7df37a-c51b-437b-a234-d5b6aa732a76",
   "metadata": {
    "editable": true,
    "slideshow": {
     "slide_type": ""
    },
    "tags": []
   },
   "outputs": [
    {
     "name": "stdout",
     "output_type": "stream",
     "text": [
      "[4613303445314885481 4624720709277733498 4671783802770883936]\n"
     ]
    }
   ],
   "source": [
    "a = np.array([1, 2, 3])\n",
    "result = np.empty_like(a)  # 결과를 기록할 기존 배열\n",
    "print(result)"
   ]
  },
  {
   "cell_type": "code",
   "execution_count": 99,
   "id": "65d2728e-0241-4c7d-b77c-76046a4dcf8e",
   "metadata": {
    "editable": true,
    "slideshow": {
     "slide_type": ""
    },
    "tags": []
   },
   "outputs": [
    {
     "name": "stdout",
     "output_type": "stream",
     "text": [
      "np.multiply(a, 10, out=result): [10 20 30]\n"
     ]
    }
   ],
   "source": [
    "# np.multiply(): 요소별 곱, out으로 결과 저장\n",
    "np.multiply(a, 10, out=result)\n",
    "print(\"np.multiply(a, 10, out=result):\", result)"
   ]
  },
  {
   "cell_type": "code",
   "execution_count": null,
   "id": "079110eb-7144-463e-9d55-ec1a45e7c7a9",
   "metadata": {
    "editable": true,
    "slideshow": {
     "slide_type": ""
    },
    "tags": []
   },
   "outputs": [],
   "source": []
  },
  {
   "cell_type": "code",
   "execution_count": null,
   "id": "7f9f32bd-1220-4995-8e16-28c7a1354efb",
   "metadata": {},
   "outputs": [],
   "source": []
  }
 ],
 "metadata": {
  "kernelspec": {
   "display_name": "llm-env",
   "language": "python",
   "name": "python3"
  },
  "language_info": {
   "codemirror_mode": {
    "name": "ipython",
    "version": 3
   },
   "file_extension": ".py",
   "mimetype": "text/x-python",
   "name": "python",
   "nbconvert_exporter": "python",
   "pygments_lexer": "ipython3",
   "version": "3.10.18"
  }
 },
 "nbformat": 4,
 "nbformat_minor": 5
}
