{
 "cells": [
  {
   "cell_type": "markdown",
   "metadata": {
    "editable": true,
    "slideshow": {
     "slide_type": "slide"
    },
    "tags": []
   },
   "source": [
    "# Dataset Split (데이터셋 분할)\n",
    "- 주어진 데이터를 목적에 맞게 학습(training), 테스트(test), (필요 시)검증(validation)으로 분할하여 모델의 성능을 평가하고 일반화하기 위한 과정"
   ]
  },
  {
   "cell_type": "markdown",
   "metadata": {
    "editable": true,
    "slideshow": {
     "slide_type": ""
    },
    "tags": []
   },
   "source": [
    "## 직접 분할 기법"
   ]
  },
  {
   "cell_type": "code",
   "execution_count": 2,
   "metadata": {
    "colab": {
     "base_uri": "https://localhost:8080/"
    },
    "id": "oR1CaKKhsnXT",
    "outputId": "cb6d8d96-b4fe-40de-9aba-0abc7ec5719d"
   },
   "outputs": [
    {
     "name": "stdout",
     "output_type": "stream",
     "text": [
      "전체 데이터셋 크기: 100\n"
     ]
    },
    {
     "data": {
      "text/html": [
       "<div>\n",
       "<style scoped>\n",
       "    .dataframe tbody tr th:only-of-type {\n",
       "        vertical-align: middle;\n",
       "    }\n",
       "\n",
       "    .dataframe tbody tr th {\n",
       "        vertical-align: top;\n",
       "    }\n",
       "\n",
       "    .dataframe thead th {\n",
       "        text-align: right;\n",
       "    }\n",
       "</style>\n",
       "<table border=\"1\" class=\"dataframe\">\n",
       "  <thead>\n",
       "    <tr style=\"text-align: right;\">\n",
       "      <th></th>\n",
       "      <th>feature1</th>\n",
       "      <th>feature2</th>\n",
       "      <th>label</th>\n",
       "    </tr>\n",
       "  </thead>\n",
       "  <tbody>\n",
       "    <tr>\n",
       "      <th>0</th>\n",
       "      <td>1</td>\n",
       "      <td>101</td>\n",
       "      <td>0</td>\n",
       "    </tr>\n",
       "    <tr>\n",
       "      <th>1</th>\n",
       "      <td>2</td>\n",
       "      <td>102</td>\n",
       "      <td>1</td>\n",
       "    </tr>\n",
       "    <tr>\n",
       "      <th>2</th>\n",
       "      <td>3</td>\n",
       "      <td>103</td>\n",
       "      <td>0</td>\n",
       "    </tr>\n",
       "    <tr>\n",
       "      <th>3</th>\n",
       "      <td>4</td>\n",
       "      <td>104</td>\n",
       "      <td>1</td>\n",
       "    </tr>\n",
       "    <tr>\n",
       "      <th>4</th>\n",
       "      <td>5</td>\n",
       "      <td>105</td>\n",
       "      <td>0</td>\n",
       "    </tr>\n",
       "    <tr>\n",
       "      <th>...</th>\n",
       "      <td>...</td>\n",
       "      <td>...</td>\n",
       "      <td>...</td>\n",
       "    </tr>\n",
       "    <tr>\n",
       "      <th>95</th>\n",
       "      <td>96</td>\n",
       "      <td>196</td>\n",
       "      <td>1</td>\n",
       "    </tr>\n",
       "    <tr>\n",
       "      <th>96</th>\n",
       "      <td>97</td>\n",
       "      <td>197</td>\n",
       "      <td>0</td>\n",
       "    </tr>\n",
       "    <tr>\n",
       "      <th>97</th>\n",
       "      <td>98</td>\n",
       "      <td>198</td>\n",
       "      <td>1</td>\n",
       "    </tr>\n",
       "    <tr>\n",
       "      <th>98</th>\n",
       "      <td>99</td>\n",
       "      <td>199</td>\n",
       "      <td>0</td>\n",
       "    </tr>\n",
       "    <tr>\n",
       "      <th>99</th>\n",
       "      <td>100</td>\n",
       "      <td>200</td>\n",
       "      <td>1</td>\n",
       "    </tr>\n",
       "  </tbody>\n",
       "</table>\n",
       "<p>100 rows × 3 columns</p>\n",
       "</div>"
      ],
      "text/plain": [
       "    feature1  feature2  label\n",
       "0          1       101      0\n",
       "1          2       102      1\n",
       "2          3       103      0\n",
       "3          4       104      1\n",
       "4          5       105      0\n",
       "..       ...       ...    ...\n",
       "95        96       196      1\n",
       "96        97       197      0\n",
       "97        98       198      1\n",
       "98        99       199      0\n",
       "99       100       200      1\n",
       "\n",
       "[100 rows x 3 columns]"
      ]
     },
     "execution_count": 2,
     "metadata": {},
     "output_type": "execute_result"
    }
   ],
   "source": [
    "# 필요한 라이브러리 불러오기\n",
    "import pandas as pd\n",
    "\n",
    "# 샘플 데이터 생성\n",
    "data = {\n",
    "    'feature1': range(1, 101),  # feature1은 1부터 100까지의 숫자\n",
    "    'feature2': range(101, 201),  # feature2는 101부터 200까지의 숫자\n",
    "    'label': [1 if x % 2 == 0 else 0 for x in range(1, 101)]  # label은 짝수이면 1, 홀수이면 0\n",
    "}\n",
    "df = pd.DataFrame(data)  # 데이터프레임 생성\n",
    "\n",
    "# 전체 데이터셋 크기 확인\n",
    "print(\"전체 데이터셋 크기:\", len(df))\n",
    "df"
   ]
  },
  {
   "cell_type": "code",
   "execution_count": 14,
   "metadata": {
    "colab": {
     "base_uri": "https://localhost:8080/"
    },
    "editable": true,
    "id": "7VKZkJbKtSMP",
    "outputId": "0f8f2d38-0a69-41a3-de4e-c19c044f6361",
    "slideshow": {
     "slide_type": "subslide"
    },
    "tags": []
   },
   "outputs": [
    {
     "name": "stdout",
     "output_type": "stream",
     "text": [
      "학습 데이터셋 크기: 60\n",
      "train_data:     feature1  feature2  label\n",
      "55        56       156      1\n",
      "56        57       157      0\n",
      "57        58       158      1\n",
      "58        59       159      0\n",
      "59        60       160      1\n"
     ]
    }
   ],
   "source": [
    "# 전체 데이터셋에서 학습 데이터 비율 설정\n",
    "train_size = int(0.6 * len(df))  # 학습 데이터 비율 (60%), len(df)은 행의 개수를 말함\n",
    "\n",
    "# 학습 데이터 분할\n",
    "train_data = df[:train_size]  # 학습 데이터로 분할\n",
    "\n",
    "# 학습 데이터셋 크기 확인\n",
    "print(\"학습 데이터셋 크기:\", len(train_data))\n",
    "# train_data 형태 확인하기\n",
    "print(\"train_data:\", train_data.tail()) # 0 ~ 59"
   ]
  },
  {
   "cell_type": "code",
   "execution_count": 15,
   "metadata": {
    "colab": {
     "base_uri": "https://localhost:8080/"
    },
    "editable": true,
    "id": "K6Va-yl1uMVQ",
    "outputId": "2909b406-aafa-4bbe-e1ed-a9f6d5361010",
    "slideshow": {
     "slide_type": "subslide"
    },
    "tags": []
   },
   "outputs": [
    {
     "name": "stdout",
     "output_type": "stream",
     "text": [
      "검증 데이터셋 크기: 20\n",
      "validation_data:     feature1  feature2  label\n",
      "75        76       176      1\n",
      "76        77       177      0\n",
      "77        78       178      1\n",
      "78        79       179      0\n",
      "79        80       180      1\n"
     ]
    }
   ],
   "source": [
    "# 전체 데이터셋에서 검증 데이터 비율 설정\n",
    "validation_size = int(0.2 * len(df))  # 검증 데이터 비율 (20%)\n",
    "\n",
    "# 검증 데이터 분할\n",
    "validation_data = df[train_size:train_size + validation_size]  # 검증 데이터로 분할 (60 ~ 79행 까지)\n",
    "\n",
    "# 검증 데이터셋 크기 확인\n",
    "print(\"검증 데이터셋 크기:\", len(validation_data))\n",
    "print(\"validation_data:\", validation_data.tail()) # 60 ~ 79"
   ]
  },
  {
   "cell_type": "code",
   "execution_count": 16,
   "metadata": {
    "colab": {
     "base_uri": "https://localhost:8080/"
    },
    "editable": true,
    "id": "sRI5UFzbw9M9",
    "outputId": "02b7a97b-2334-4814-d740-336c796d54f9",
    "slideshow": {
     "slide_type": "subslide"
    },
    "tags": []
   },
   "outputs": [
    {
     "name": "stdout",
     "output_type": "stream",
     "text": [
      "테스트 데이터셋 크기: 20\n",
      "test_data:     feature1  feature2  label\n",
      "95        96       196      1\n",
      "96        97       197      0\n",
      "97        98       198      1\n",
      "98        99       199      0\n",
      "99       100       200      1\n"
     ]
    }
   ],
   "source": [
    "# 테스트 데이터 분할\n",
    "test_data = df[train_size + validation_size:]  # 테스트 데이터로 분할\n",
    "\n",
    "# 테스트 데이터셋 크기 확인\n",
    "print(\"테스트 데이터셋 크기:\", len(test_data))\n",
    "print(\"test_data:\", test_data.tail()) # 80 ~ 99"
   ]
  },
  {
   "cell_type": "code",
   "execution_count": null,
   "metadata": {},
   "outputs": [],
   "source": []
  },
  {
   "cell_type": "markdown",
   "metadata": {
    "editable": true,
    "slideshow": {
     "slide_type": "subslide"
    },
    "tags": []
   },
   "source": [
    "## 랜덤 분할 기법"
   ]
  },
  {
   "cell_type": "code",
   "execution_count": 18,
   "metadata": {},
   "outputs": [
    {
     "name": "stdout",
     "output_type": "stream",
     "text": [
      "전체 데이터셋 크기: 100\n",
      "data: {'feature1': range(1, 101), 'feature2': range(101, 201), 'label': [0, 1, 0, 1, 0, 1, 0, 1, 0, 1, 0, 1, 0, 1, 0, 1, 0, 1, 0, 1, 0, 1, 0, 1, 0, 1, 0, 1, 0, 1, 0, 1, 0, 1, 0, 1, 0, 1, 0, 1, 0, 1, 0, 1, 0, 1, 0, 1, 0, 1, 0, 1, 0, 1, 0, 1, 0, 1, 0, 1, 0, 1, 0, 1, 0, 1, 0, 1, 0, 1, 0, 1, 0, 1, 0, 1, 0, 1, 0, 1, 0, 1, 0, 1, 0, 1, 0, 1, 0, 1, 0, 1, 0, 1, 0, 1, 0, 1, 0, 1]}\n"
     ]
    }
   ],
   "source": [
    "# 필요한 라이브러리 불러오기\n",
    "import pandas as pd\n",
    "\n",
    "# 샘플 데이터 생성\n",
    "data = {\n",
    "    'feature1': range(1, 101),\n",
    "    'feature2': range(101, 201),\n",
    "    'label': [1 if x % 2 == 0 else 0 for x in range(1, 101)]\n",
    "}\n",
    "df = pd.DataFrame(data)\n",
    "\n",
    "# 전체 데이터셋 크기 확인\n",
    "print(\"전체 데이터셋 크기:\", len(df))\n",
    "print(\"data:\", data)"
   ]
  },
  {
   "cell_type": "markdown",
   "metadata": {
    "editable": true,
    "id": "H8t0vhZx9MT0",
    "slideshow": {
     "slide_type": "subslide"
    },
    "tags": []
   },
   "source": [
    "1. 학습 데이터 분할\n",
    "\n",
    "전체 데이터셋의 60%를 학습 데이터로 분할합니다.\n",
    "\n",
    "- `train_size`는 전체 데이터셋의 60%를 의미합니다.\n",
    "- `df[:train_size]`는 데이터프레임의 처음 60%를 학습 데이터로 분할합니다."
   ]
  },
  {
   "cell_type": "code",
   "execution_count": 21,
   "metadata": {
    "colab": {
     "base_uri": "https://localhost:8080/"
    },
    "id": "34VTZHmLx8Oy",
    "outputId": "c302ac0f-f7d0-4da9-9d02-fe704c1acfc3"
   },
   "outputs": [
    {
     "name": "stdout",
     "output_type": "stream",
     "text": [
      "학습 데이터셋 크기: 60\n",
      "train_data:     feature1  feature2  label\n",
      "55        56       156      1\n",
      "56        57       157      0\n",
      "57        58       158      1\n",
      "58        59       159      0\n",
      "59        60       160      1\n"
     ]
    }
   ],
   "source": [
    "# 전체 데이터셋에서 학습 데이터 비율 설정\n",
    "train_size = int(0.6 * len(df))\n",
    "\n",
    "# 학습 데이터 분할\n",
    "train_data = df[:train_size]\n",
    "\n",
    "# 학습 데이터셋 크기 확인\n",
    "print(\"학습 데이터셋 크기:\", len(train_data))\n",
    "print(\"train_data:\", train_data.tail())"
   ]
  },
  {
   "cell_type": "markdown",
   "metadata": {
    "editable": true,
    "id": "tbaHDwR-9Qul",
    "slideshow": {
     "slide_type": "subslide"
    },
    "tags": []
   },
   "source": [
    "2. 검증 데이터 분할\n",
    "\n",
    "나머지 데이터의 20%를 검증 데이터로 분할합니다.\n",
    "\n",
    "- `validation_size`는 전체 데이터셋의 20%를 의미합니다.\n",
    "- `df[train_size:train_size + validation_size]`는 학습 데이터 이후의 20%를 검증 데이터로 분할합니다."
   ]
  },
  {
   "cell_type": "code",
   "execution_count": 26,
   "metadata": {
    "colab": {
     "base_uri": "https://localhost:8080/"
    },
    "id": "cZKFjvLnx-Vt",
    "outputId": "6b7a26ab-3b87-4554-9591-e422db527ed9"
   },
   "outputs": [
    {
     "name": "stdout",
     "output_type": "stream",
     "text": [
      "검증 데이터셋 크기: 20\n",
      "validation_data:     feature1  feature2  label\n",
      "75        76       176      1\n",
      "76        77       177      0\n",
      "77        78       178      1\n",
      "78        79       179      0\n",
      "79        80       180      1\n"
     ]
    }
   ],
   "source": [
    "# 전체 데이터셋에서 검증 데이터 비율 설정\n",
    "validation_size = int(0.2 * len(df))\n",
    "\n",
    "# 검증 데이터 분할\n",
    "validation_data = df[ train_size : train_size + validation_size ]\n",
    "\n",
    "# 검증 데이터셋 크기 확인\n",
    "print(\"검증 데이터셋 크기:\", len(validation_data))\n",
    "print(\"validation_data:\", validation_data.tail())"
   ]
  },
  {
   "cell_type": "markdown",
   "metadata": {
    "editable": true,
    "id": "yFyevEsF9Smc",
    "slideshow": {
     "slide_type": "subslide"
    },
    "tags": []
   },
   "source": [
    "3. 테스트 데이터 분할\n",
    "\n",
    "남은 데이터를 테스트 데이터로 분할합니다.\n",
    "- 나머지 20%의 데이터는 테스트 데이터로 사용됩니다.\n",
    "- `df[train_size + validation_size:]`는 학습 데이터와 검증 데이터 이후의 나머지 데이터를 테스트 데이터로 분할합니다."
   ]
  },
  {
   "cell_type": "code",
   "execution_count": 28,
   "metadata": {
    "colab": {
     "base_uri": "https://localhost:8080/"
    },
    "id": "5ImLs6QjyACz",
    "outputId": "d145d851-3f52-4f3e-964a-4726601d728f"
   },
   "outputs": [
    {
     "name": "stdout",
     "output_type": "stream",
     "text": [
      "테스트 데이터셋 크기: 20\n",
      "test_data:     feature1  feature2  label\n",
      "95        96       196      1\n",
      "96        97       197      0\n",
      "97        98       198      1\n",
      "98        99       199      0\n",
      "99       100       200      1\n"
     ]
    }
   ],
   "source": [
    "# 테스트 데이터 분할\n",
    "test_data = df[ train_size + validation_size : ]\n",
    "\n",
    "# 테스트 데이터셋 크기 확인\n",
    "print(\"테스트 데이터셋 크기:\", len(test_data))\n",
    "print(\"test_data:\", test_data.tail())"
   ]
  },
  {
   "cell_type": "markdown",
   "metadata": {
    "editable": true,
    "id": "0Gyjwt9x9UIE",
    "slideshow": {
     "slide_type": "subslide"
    },
    "tags": []
   },
   "source": [
    "4. 랜덤 분할\n",
    "\n",
    "데이터를 무작위로 섞어 학습, 검증, 테스트 데이터셋을 분할합니다.\n",
    "\n",
    "- `train_test_split` 함수는 데이터를 무작위로 섞어 주어진 비율로 분할합니다.\n",
    "- `train_test_split(df, test_size=0.4, random_state=42)`는 전체 데이터의 60%를 학습 데이터로, 40%를 임시 데이터(`temp_data`)로 분할합니다.\n",
    "- `train_test_split(temp_data, test_size=0.5, random_state=42)`는 임시 데이터를 다시 검증 데이터와 테스트 데이터로 50:50 비율로 분할합니다.\n",
    "- `random_state=42`는 무작위 분할을 재현 가능하게 하기 위한 시드 값입니다."
   ]
  },
  {
   "cell_type": "code",
   "execution_count": 12,
   "metadata": {
    "colab": {
     "base_uri": "https://localhost:8080/"
    },
    "editable": true,
    "id": "dZlQljpEyDIr",
    "outputId": "a44b6caa-844c-41f1-8156-620f8cf0cb19",
    "slideshow": {
     "slide_type": ""
    },
    "tags": []
   },
   "outputs": [
    {
     "name": "stdout",
     "output_type": "stream",
     "text": [
      "학습 데이터셋 크기: 60\n",
      "검증 데이터셋 크기: 20\n",
      "테스트 데이터셋 크기: 20\n",
      "train_data:     feature1  feature2  label\n",
      "49        50       150      1\n",
      "34        35       135      0\n",
      "7          8       108      1\n",
      "95        96       196      1\n",
      "27        28       128      1\n",
      "19        20       120      1\n",
      "81        82       182      1\n",
      "25        26       126      1\n",
      "62        63       163      0\n",
      "13        14       114      1\n",
      "24        25       125      0\n",
      "3          4       104      1\n",
      "17        18       118      1\n",
      "38        39       139      0\n",
      "8          9       109      0\n",
      "78        79       179      0\n",
      "6          7       107      0\n",
      "64        65       165      0\n",
      "36        37       137      0\n",
      "89        90       190      1\n",
      "56        57       157      0\n",
      "99       100       200      1\n",
      "54        55       155      0\n",
      "43        44       144      1\n",
      "50        51       151      0\n",
      "67        68       168      1\n",
      "46        47       147      0\n",
      "68        69       169      0\n",
      "61        62       162      1\n",
      "97        98       198      1\n",
      "79        80       180      1\n",
      "41        42       142      1\n",
      "58        59       159      0\n",
      "48        49       149      0\n",
      "98        99       199      0\n",
      "57        58       158      1\n",
      "75        76       176      1\n",
      "32        33       133      0\n",
      "94        95       195      0\n",
      "59        60       160      1\n",
      "63        64       164      1\n",
      "84        85       185      0\n",
      "37        38       138      1\n",
      "29        30       130      1\n",
      "1          2       102      1\n",
      "52        53       153      0\n",
      "21        22       122      1\n",
      "2          3       103      0\n",
      "23        24       124      1\n",
      "87        88       188      1\n",
      "91        92       192      1\n",
      "74        75       175      0\n",
      "86        87       187      0\n",
      "82        83       183      0\n",
      "20        21       121      0\n",
      "60        61       161      0\n",
      "71        72       172      1\n",
      "14        15       115      0\n",
      "92        93       193      0\n",
      "51        52       152      1\n",
      "validation_data:     feature1  feature2  label\n",
      "39        40       140      1\n",
      "30        31       131      0\n",
      "53        54       154      1\n",
      "72        73       173      0\n",
      "88        89       189      0\n",
      "70        71       171      0\n",
      "11        12       112      1\n",
      "66        67       167      0\n",
      "45        46       146      1\n",
      "5          6       106      1\n",
      "42        43       143      0\n",
      "85        86       186      1\n",
      "18        19       119      0\n",
      "26        27       127      0\n",
      "12        13       113      0\n",
      "55        56       156      1\n",
      "80        81       181      0\n",
      "90        91       191      0\n",
      "9         10       110      1\n",
      "35        36       136      1\n",
      "test_data:     feature1  feature2  label\n",
      "31        32       132      1\n",
      "76        77       177      0\n",
      "4          5       105      0\n",
      "40        41       141      0\n",
      "44        45       145      0\n",
      "73        74       174      1\n",
      "65        66       166      1\n",
      "96        97       197      0\n",
      "16        17       117      0\n",
      "22        23       123      0\n",
      "15        16       116      1\n",
      "0          1       101      0\n",
      "33        34       134      1\n",
      "47        48       148      1\n",
      "93        94       194      1\n",
      "10        11       111      0\n",
      "77        78       178      1\n",
      "69        70       170      1\n",
      "83        84       184      1\n",
      "28        29       129      0\n"
     ]
    }
   ],
   "source": [
    "# 필요한 라이브러리 불러오기\n",
    "from sklearn.model_selection import train_test_split\n",
    "\n",
    "# 데이터셋을 학습, 검증, 테스트 세트로 랜덤 분할 (60:20:20 비율)\n",
    "train_data, temp_data = train_test_split(df, test_size=0.4, random_state=42)\n",
    "validation_data, test_data = train_test_split(temp_data, test_size=0.5, random_state=42)\n",
    "\n",
    "# 각 데이터셋 크기 확인\n",
    "print(\"학습 데이터셋 크기:\", len(train_data))\n",
    "print(\"검증 데이터셋 크기:\", len(validation_data))\n",
    "print(\"테스트 데이터셋 크기:\", len(test_data))\n",
    "\n",
    "print(\"train_data:\", train_data)\n",
    "print(\"validation_data:\", validation_data)\n",
    "print(\"test_data:\", test_data)"
   ]
  },
  {
   "cell_type": "code",
   "execution_count": null,
   "metadata": {},
   "outputs": [],
   "source": []
  },
  {
   "cell_type": "markdown",
   "metadata": {
    "editable": true,
    "slideshow": {
     "slide_type": "slide"
    },
    "tags": []
   },
   "source": [
    "# K-Fold 교차 검증 예제"
   ]
  },
  {
   "cell_type": "markdown",
   "metadata": {
    "id": "VEQOPD-cGfv2"
   },
   "source": [
    "1. 라이브러리 설치 및 불러오기\n",
    "\n",
    "먼저 필요한 라이브러리를 설치하고 불러옵니다."
   ]
  },
  {
   "cell_type": "code",
   "execution_count": 30,
   "metadata": {
    "id": "6mtCaR8qGgJ2"
   },
   "outputs": [],
   "source": [
    "# Scikit-Learn 라이브러리는 일반적으로 코랩에 기본 설치되어 있습니다.\n",
    "# 만약 설치되어 있지 않다면 아래 주석을 제거하고 실행하세요.\n",
    "# !pip install scikit-learn\n",
    "\n",
    "import numpy as np\n",
    "import pandas as pd\n",
    "from sklearn.model_selection import KFold\n",
    "from sklearn.metrics import accuracy_score"
   ]
  },
  {
   "cell_type": "markdown",
   "metadata": {
    "editable": true,
    "id": "qo7GFELmGvJk",
    "slideshow": {
     "slide_type": "subslide"
    },
    "tags": []
   },
   "source": [
    "2. 데이터 생성\n",
    "\n",
    "간단한 샘플 데이터를 생성합니다."
   ]
  },
  {
   "cell_type": "code",
   "execution_count": 31,
   "metadata": {
    "colab": {
     "base_uri": "https://localhost:8080/"
    },
    "id": "PDacC7k6G4Mn",
    "outputId": "84f3332d-5699-4989-f2fa-2c0ec6647615"
   },
   "outputs": [
    {
     "name": "stdout",
     "output_type": "stream",
     "text": [
      "    feature1  feature2\n",
      "0          1       101\n",
      "1          2       102\n",
      "2          3       103\n",
      "3          4       104\n",
      "4          5       105\n",
      "..       ...       ...\n",
      "95        96       196\n",
      "96        97       197\n",
      "97        98       198\n",
      "98        99       199\n",
      "99       100       200\n",
      "\n",
      "[100 rows x 2 columns]\n",
      "---\n",
      "0     0\n",
      "1     1\n",
      "2     0\n",
      "3     1\n",
      "4     0\n",
      "     ..\n",
      "95    1\n",
      "96    0\n",
      "97    1\n",
      "98    0\n",
      "99    1\n",
      "Name: label, Length: 100, dtype: int64\n"
     ]
    }
   ],
   "source": [
    "# 샘플 데이터 생성\n",
    "data = {\n",
    "    'feature1': range(1, 101),  # 1부터 100까지의 숫자\n",
    "    'feature2': range(101, 201),  # 101부터 200까지의 숫자\n",
    "    'label': [1 if x % 2 == 0 else 0 for x in range(1, 101)]  # 짝수이면 1, 홀수이면 0\n",
    "}\n",
    "df = pd.DataFrame(data)  # 데이터프레임 생성\n",
    "\n",
    "# 특성(features)와 라벨(label) 분리\n",
    "X = df[['feature1', 'feature2']]\n",
    "y = df['label']\n",
    "\n",
    "print(X)\n",
    "print('---')\n",
    "print(y)"
   ]
  },
  {
   "cell_type": "markdown",
   "metadata": {
    "editable": true,
    "id": "AS9txU0zG1Tv",
    "slideshow": {
     "slide_type": "subslide"
    },
    "tags": []
   },
   "source": [
    "3. K-Fold 교차 검증 설정 및 수행\n",
    "\n",
    "K-Fold 교차 검증을 설정하고 수행합니다."
   ]
  },
  {
   "cell_type": "code",
   "execution_count": 42,
   "metadata": {
    "colab": {
     "base_uri": "https://localhost:8080/"
    },
    "id": "3RiTcXHCG7Tl",
    "outputId": "b61350bf-7156-4ced-b20e-8ec64fdf201a"
   },
   "outputs": [
    {
     "name": "stdout",
     "output_type": "stream",
     "text": [
      "\n",
      "fold #0 \n",
      "train_idnex :\n",
      " [ 1  2  3  5  6  7  8  9 11 13 14 15 16 17 19 20 21 23 24 25 26 27 28 29\n",
      " 32 34 35 36 37 38 40 41 42 43 46 47 48 49 50 51 52 54 55 56 57 58 59 60\n",
      " 61 62 63 64 65 66 67 68 69 71 72 74 75 78 79 81 82 84 85 86 87 88 89 91\n",
      " 92 93 94 95 96 97 98 99] 80\n",
      "test_idnex :\n",
      " [ 0  4 10 12 18 22 30 31 33 39 44 45 53 70 73 76 77 80 83 90] 20\n",
      "\n",
      "fold #1 \n",
      "train_idnex :\n",
      " [ 0  1  2  3  4  6  7  8 10 12 13 14 17 18 19 20 21 22 23 24 25 27 29 30\n",
      " 31 32 33 34 36 37 38 39 41 43 44 45 46 48 49 50 51 52 53 54 56 57 58 59\n",
      " 60 61 62 63 64 67 68 70 71 73 74 75 76 77 78 79 80 81 82 83 84 86 87 89\n",
      " 90 91 92 94 95 97 98 99] 80\n",
      "test_idnex :\n",
      " [ 5  9 11 15 16 26 28 35 40 42 47 55 65 66 69 72 85 88 93 96] 20\n",
      "\n",
      "fold #2 \n",
      "train_idnex :\n",
      " [ 0  1  2  4  5  9 10 11 12 14 15 16 18 20 21 22 23 26 28 29 30 31 32 33\n",
      " 35 37 39 40 41 42 43 44 45 46 47 48 50 51 52 53 54 55 56 57 58 59 60 61\n",
      " 63 65 66 67 68 69 70 71 72 73 74 75 76 77 79 80 82 83 84 85 86 87 88 90\n",
      " 91 92 93 94 96 97 98 99] 80\n",
      "test_idnex :\n",
      " [ 3  6  7  8 13 17 19 24 25 27 34 36 38 49 62 64 78 81 89 95] 20\n",
      "\n",
      "fold #3 \n",
      "train_idnex :\n",
      " [ 0  1  2  3  4  5  6  7  8  9 10 11 12 13 14 15 16 17 18 19 20 21 22 23\n",
      " 24 25 26 27 28 29 30 31 33 34 35 36 37 38 39 40 42 44 45 47 49 51 52 53\n",
      " 55 60 62 63 64 65 66 69 70 71 72 73 74 76 77 78 80 81 82 83 84 85 86 87\n",
      " 88 89 90 91 92 93 95 96] 80\n",
      "test_idnex :\n",
      " [32 41 43 46 48 50 54 56 57 58 59 61 67 68 75 79 94 97 98 99] 20\n",
      "\n",
      "fold #4 \n",
      "train_idnex :\n",
      " [ 0  3  4  5  6  7  8  9 10 11 12 13 15 16 17 18 19 22 24 25 26 27 28 30\n",
      " 31 32 33 34 35 36 38 39 40 41 42 43 44 45 46 47 48 49 50 53 54 55 56 57\n",
      " 58 59 61 62 64 65 66 67 68 69 70 72 73 75 76 77 78 79 80 81 83 85 88 89\n",
      " 90 93 94 95 96 97 98 99] 80\n",
      "test_idnex :\n",
      " [ 1  2 14 20 21 23 29 37 51 52 60 63 71 74 82 84 86 87 91 92] 20\n",
      "폴드 1의 정확도: 1.00\n",
      "폴드 2의 정확도: 1.00\n",
      "폴드 3의 정확도: 1.00\n",
      "폴드 4의 정확도: 1.00\n",
      "폴드 5의 정확도: 1.00\n",
      "평균 정확도: 1.00\n"
     ]
    }
   ],
   "source": [
    "# KFold 설정\n",
    "kf = KFold(n_splits=5, shuffle=True, random_state=42)\n",
    "\n",
    "# 결과를 저장할 리스트\n",
    "accuracy_scores = []\n",
    "\n",
    "# 각 폴드에 대해 학습 및 평가\n",
    "for i, (train_index, test_index) in enumerate(kf.split(X)):\n",
    "    # 학습 데이터와 테스트 데이터 분할\n",
    "    print(f'\\nfold #{i} ')\n",
    "    X_train, X_test = X.iloc[train_index], X.iloc[test_index]\n",
    "    y_train, y_test = y.iloc[train_index], y.iloc[test_index]\n",
    "    print(f'train_idnex :\\n {train_index}', len(train_index))\n",
    "    print(f'test_idnex :\\n {test_index}', len(test_index))\n",
    "\n",
    "    # 간단한 모델: 예제에서는 feature1의 값이 짝수면 1, 홀수면 0으로 예측\n",
    "    y_pred = [1 if x % 2 == 0 else 0 for x in X_test['feature1']]\n",
    "\n",
    "    # 정확도 계산\n",
    "    accuracy = accuracy_score(y_test, y_pred)\n",
    "    accuracy_scores.append(accuracy)\n",
    "\n",
    "# 각 폴드의 정확도 출력\n",
    "for i, score in enumerate(accuracy_scores):\n",
    "    print(f\"폴드 {i+1}의 정확도: {score:.2f}\")\n",
    "\n",
    "# 평균 정확도 출력\n",
    "print(f\"평균 정확도: {np.mean(accuracy_scores):.2f}\")"
   ]
  },
  {
   "cell_type": "code",
   "execution_count": null,
   "metadata": {},
   "outputs": [],
   "source": []
  }
 ],
 "metadata": {
  "colab": {
   "provenance": []
  },
  "kernelspec": {
   "display_name": "env_ktbai",
   "language": "python",
   "name": "env_ktbai"
  },
  "language_info": {
   "codemirror_mode": {
    "name": "ipython",
    "version": 3
   },
   "file_extension": ".py",
   "mimetype": "text/x-python",
   "name": "python",
   "nbconvert_exporter": "python",
   "pygments_lexer": "ipython3",
   "version": "3.10.18"
  }
 },
 "nbformat": 4,
 "nbformat_minor": 4
}
