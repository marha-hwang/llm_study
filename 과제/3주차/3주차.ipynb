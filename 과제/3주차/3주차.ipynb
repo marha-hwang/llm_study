{
 "cells": [
  {
   "cell_type": "markdown",
   "id": "6cd73581",
   "metadata": {},
   "source": [
    "1. NumPy 배열 생성 및 연산\n",
    "- NumPy를 사용해 3x3 정수 배열(1부터 9까지)과 2x5 실수 배열(0~1 사이 난수)을 생성하세요. 생성한 배열의 합계와 평균을 각각 계산하고, 두 배열을 곱한 결과를 출력하세요.\n",
    "- - 배열의 형태를 유지하지 않아도 괜찮습니다.\n",
    "\n",
    "2. Pandas를 활용한 데이터 처리\n",
    "- 아래 데이터를 DataFrame으로 생성하세요.\n",
    "Name: [Alice, Bob, None, Charlie]\n",
    "Age: [25, None, 28, 35]\n",
    "City: [New York, None, Chicago, None]\n",
    "\n",
    "- 누락된 이름은 \"Unknown\"으로, 나이는 평균 나이로 채우고 수정된 DataFrame을 출력하세요.\n",
    "\n",
    "3: HTTP 통신을 활용한 데이터 읽기 및 저장\n",
    "- https://jsonplaceholder.typicode.com/todos 에서 JSON 데이터를 가져오세요.\n",
    "데이터를 파일로 저장한 뒤, \"title\" 키의 값을 출력하세요.\n",
    "\n",
    "제출 방식: 1, 2, 3을 콜랩 페이지 하나로 하여 링크 제출\n",
    "\n"
   ]
  },
  {
   "cell_type": "code",
   "execution_count": 31,
   "id": "1b462ef6",
   "metadata": {},
   "outputs": [
    {
     "name": "stdout",
     "output_type": "stream",
     "text": [
      "[[1 2 3]\n",
      " [4 5 6]\n",
      " [7 8 9]]\n",
      "합계 : 45 \n",
      "평균 :  5.0\n",
      "[[0.35011917 0.71010103 0.22124527 0.03885772 0.17865559]\n",
      " [0.39182295 0.84615593 0.81788038 0.07374502 0.29790133]]\n",
      "합계 : 3.926484389681921 \n",
      "평균 :  0.39264843896819207\n",
      "곱셈 결과 : [0.35011917 1.42020206 0.6637358  0.15543087 0.89327796 2.35093772\n",
      " 5.92309148 6.54304306 0.66370517]\n"
     ]
    }
   ],
   "source": [
    "import numpy as np\n",
    "\n",
    "arr1 = np.arange(1,10).reshape(3,3)\n",
    "print(arr1)\n",
    "print(f\"합계 : {arr1.sum()} \")\n",
    "print(f\"평균 :  {arr1.mean()}\")\n",
    "\n",
    "arr2 = np.random.uniform(0, 1, size=(2,5))\n",
    "print(arr2)\n",
    "print(f\"합계 : {arr2.sum()} \")\n",
    "print(f\"평균 :  {arr2.mean()}\")\n",
    "\n",
    "arr1_flat = arr1.flatten()\n",
    "arr2_flat = arr2.flatten()[0:9]\n",
    "print(f\"곱셈 결과 : {arr1_flat * arr2_flat}\")"
   ]
  },
  {
   "cell_type": "code",
   "execution_count": 32,
   "id": "be430e68",
   "metadata": {},
   "outputs": [
    {
     "name": "stdout",
     "output_type": "stream",
     "text": [
      "      Name   Age      City\n",
      "0    Alice  25.0  New York\n",
      "1      Bob   NaN      None\n",
      "2     None  28.0   Chicago\n",
      "3  Charlie  35.0      None\n",
      "      Name   Age      City\n",
      "0    Alice  25.0  New York\n",
      "1      Bob  29.0   Unknown\n",
      "2  Unknown  28.0   Chicago\n",
      "3  Charlie  35.0   Unknown\n"
     ]
    }
   ],
   "source": [
    "import pandas as pd\n",
    "\n",
    "data = {\n",
    "    'Name' : [\"Alice\", \"Bob\", None, \"Charlie\"],\n",
    "    'Age': [25, None, 28, 35],\n",
    "    'City': [\"New York\", None, \"Chicago\", None]\n",
    "}\n",
    "\n",
    "data_pd = pd.DataFrame(data)\n",
    "print(data_pd)\n",
    "\n",
    "# 각각\n",
    "# data_pd['Name'] = data_pd['Name'].fillna('Unknown')\n",
    "# data_pd['City'] = data_pd['City'].fillna('Unknown')\n",
    "# data_pd['Age'] = data_pd['Age'].fillna()\n",
    "\n",
    "# 한번에\n",
    "data_pd = data_pd.fillna({'Name': 'Unknown', 'Age': data_pd['Age'].mean().astype(int), 'City': 'Unknown'})\n",
    "print(data_pd)"
   ]
  },
  {
   "cell_type": "code",
   "execution_count": null,
   "id": "8faa0dde",
   "metadata": {},
   "outputs": [
    {
     "name": "stdout",
     "output_type": "stream",
     "text": [
      "0                                     delectus aut autem\n",
      "1                     quis ut nam facilis et officia qui\n",
      "2                                    fugiat veniam minus\n",
      "3                                       et porro tempora\n",
      "4      laboriosam mollitia et enim quasi adipisci qui...\n",
      "                             ...                        \n",
      "195                  consequuntur aut ut fugit similique\n",
      "196                    dignissimos quo nobis earum saepe\n",
      "197                         quis eius est sint explicabo\n",
      "198                         numquam repellendus a magnam\n",
      "199                         ipsam aperiam voluptates qui\n",
      "Name: title, Length: 200, dtype: object\n"
     ]
    }
   ],
   "source": [
    "import requests\n",
    "import json\n",
    "import pandas as pd\n",
    "\n",
    "response = requests.get('https://jsonplaceholder.typicode.com/todos')\n",
    "\n",
    "with open('3주차과제_데이터.txt', 'w', encoding='utf-8') as f:\n",
    "    f.write(response.text)\n",
    "\n",
    "with open('3주차과제_데이터.txt', 'r', encoding='utf-8') as f:\n",
    "    data = f.read()\n",
    "    data_json = json.loads(data)\n",
    "    df = pd.DataFrame(data_json)\n",
    "    print(df['title'])"
   ]
  }
 ],
 "metadata": {
  "kernelspec": {
   "display_name": "llm-env",
   "language": "python",
   "name": "llm-env"
  },
  "language_info": {
   "codemirror_mode": {
    "name": "ipython",
    "version": 3
   },
   "file_extension": ".py",
   "mimetype": "text/x-python",
   "name": "python",
   "nbconvert_exporter": "python",
   "pygments_lexer": "ipython3",
   "version": "3.10.18"
  }
 },
 "nbformat": 4,
 "nbformat_minor": 5
}
